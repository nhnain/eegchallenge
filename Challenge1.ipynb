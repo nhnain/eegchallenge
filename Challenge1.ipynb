{
  "nbformat": 4,
  "nbformat_minor": 0,
  "metadata": {
    "colab": {
      "provenance": [],
      "gpuType": "T4",
      "authorship_tag": "ABX9TyOXJwrqE0aict8f7rdXmqve",
      "include_colab_link": true
    },
    "kernelspec": {
      "name": "python3",
      "display_name": "Python 3"
    },
    "language_info": {
      "name": "python"
    },
    "accelerator": "GPU"
  },
  "cells": [
    {
      "cell_type": "markdown",
      "metadata": {
        "id": "view-in-github",
        "colab_type": "text"
      },
      "source": [
        "<a href=\"https://colab.research.google.com/github/nhnain/eegchallenge/blob/main/Challenge1.ipynb\" target=\"_parent\"><img src=\"https://colab.research.google.com/assets/colab-badge.svg\" alt=\"Open In Colab\"/></a>"
      ]
    },
    {
      "cell_type": "markdown",
      "source": [
        "#1. Preprocessing"
      ],
      "metadata": {
        "id": "7r4tZAQKkJFg"
      }
    },
    {
      "cell_type": "code",
      "source": [
        "!pip install braindecode\n",
        "!pip install eegdash"
      ],
      "metadata": {
        "id": "DiMrA-jSk4SK",
        "colab": {
          "base_uri": "https://localhost:8080/"
        },
        "outputId": "888544d4-52bc-4bf6-d6f5-83c4475c7621"
      },
      "execution_count": 1,
      "outputs": [
        {
          "output_type": "stream",
          "name": "stdout",
          "text": [
            "Collecting braindecode\n",
            "  Downloading braindecode-1.2.0-py3-none-any.whl.metadata (7.1 kB)\n",
            "Collecting mne>=1.10.0 (from braindecode)\n",
            "  Downloading mne-1.10.1-py3-none-any.whl.metadata (20 kB)\n",
            "Collecting mne_bids>=0.16 (from braindecode)\n",
            "  Downloading mne_bids-0.17.0-py3-none-any.whl.metadata (7.3 kB)\n",
            "Requirement already satisfied: numpy in /usr/local/lib/python3.12/dist-packages (from braindecode) (2.0.2)\n",
            "Requirement already satisfied: pandas in /usr/local/lib/python3.12/dist-packages (from braindecode) (2.2.2)\n",
            "Requirement already satisfied: scipy in /usr/local/lib/python3.12/dist-packages (from braindecode) (1.16.2)\n",
            "Requirement already satisfied: matplotlib in /usr/local/lib/python3.12/dist-packages (from braindecode) (3.10.0)\n",
            "Requirement already satisfied: h5py in /usr/local/lib/python3.12/dist-packages (from braindecode) (3.14.0)\n",
            "Collecting skorch>=1.2.0 (from braindecode)\n",
            "  Downloading skorch-1.2.0-py3-none-any.whl.metadata (11 kB)\n",
            "Requirement already satisfied: torch<3.0,>=2.0 in /usr/local/lib/python3.12/dist-packages (from braindecode) (2.8.0+cu126)\n",
            "Requirement already satisfied: torchaudio<3.0,>=2.0 in /usr/local/lib/python3.12/dist-packages (from braindecode) (2.8.0+cu126)\n",
            "Requirement already satisfied: einops in /usr/local/lib/python3.12/dist-packages (from braindecode) (0.8.1)\n",
            "Requirement already satisfied: joblib in /usr/local/lib/python3.12/dist-packages (from braindecode) (1.5.2)\n",
            "Collecting torchinfo~=1.8 (from braindecode)\n",
            "  Downloading torchinfo-1.8.0-py3-none-any.whl.metadata (21 kB)\n",
            "Collecting wfdb (from braindecode)\n",
            "  Downloading wfdb-4.3.0-py3-none-any.whl.metadata (3.8 kB)\n",
            "Collecting linear_attention_transformer (from braindecode)\n",
            "  Downloading linear_attention_transformer-0.19.1-py3-none-any.whl.metadata (787 bytes)\n",
            "Collecting docstring_inheritance (from braindecode)\n",
            "  Downloading docstring_inheritance-2.2.2-py3-none-any.whl.metadata (11 kB)\n",
            "Requirement already satisfied: decorator in /usr/local/lib/python3.12/dist-packages (from mne>=1.10.0->braindecode) (4.4.2)\n",
            "Requirement already satisfied: jinja2 in /usr/local/lib/python3.12/dist-packages (from mne>=1.10.0->braindecode) (3.1.6)\n",
            "Requirement already satisfied: lazy-loader>=0.3 in /usr/local/lib/python3.12/dist-packages (from mne>=1.10.0->braindecode) (0.4)\n",
            "Requirement already satisfied: packaging in /usr/local/lib/python3.12/dist-packages (from mne>=1.10.0->braindecode) (25.0)\n",
            "Requirement already satisfied: pooch>=1.5 in /usr/local/lib/python3.12/dist-packages (from mne>=1.10.0->braindecode) (1.8.2)\n",
            "Requirement already satisfied: tqdm in /usr/local/lib/python3.12/dist-packages (from mne>=1.10.0->braindecode) (4.67.1)\n",
            "Requirement already satisfied: contourpy>=1.0.1 in /usr/local/lib/python3.12/dist-packages (from matplotlib->braindecode) (1.3.3)\n",
            "Requirement already satisfied: cycler>=0.10 in /usr/local/lib/python3.12/dist-packages (from matplotlib->braindecode) (0.12.1)\n",
            "Requirement already satisfied: fonttools>=4.22.0 in /usr/local/lib/python3.12/dist-packages (from matplotlib->braindecode) (4.60.0)\n",
            "Requirement already satisfied: kiwisolver>=1.3.1 in /usr/local/lib/python3.12/dist-packages (from matplotlib->braindecode) (1.4.9)\n",
            "Requirement already satisfied: pillow>=8 in /usr/local/lib/python3.12/dist-packages (from matplotlib->braindecode) (11.3.0)\n",
            "Requirement already satisfied: pyparsing>=2.3.1 in /usr/local/lib/python3.12/dist-packages (from matplotlib->braindecode) (3.2.4)\n",
            "Requirement already satisfied: python-dateutil>=2.7 in /usr/local/lib/python3.12/dist-packages (from matplotlib->braindecode) (2.9.0.post0)\n",
            "Requirement already satisfied: scikit-learn>=0.22.0 in /usr/local/lib/python3.12/dist-packages (from skorch>=1.2.0->braindecode) (1.6.1)\n",
            "Requirement already satisfied: tabulate>=0.7.7 in /usr/local/lib/python3.12/dist-packages (from skorch>=1.2.0->braindecode) (0.9.0)\n",
            "Requirement already satisfied: filelock in /usr/local/lib/python3.12/dist-packages (from torch<3.0,>=2.0->braindecode) (3.19.1)\n",
            "Requirement already satisfied: typing-extensions>=4.10.0 in /usr/local/lib/python3.12/dist-packages (from torch<3.0,>=2.0->braindecode) (4.15.0)\n",
            "Requirement already satisfied: setuptools in /usr/local/lib/python3.12/dist-packages (from torch<3.0,>=2.0->braindecode) (75.2.0)\n",
            "Requirement already satisfied: sympy>=1.13.3 in /usr/local/lib/python3.12/dist-packages (from torch<3.0,>=2.0->braindecode) (1.13.3)\n",
            "Requirement already satisfied: networkx in /usr/local/lib/python3.12/dist-packages (from torch<3.0,>=2.0->braindecode) (3.5)\n",
            "Requirement already satisfied: fsspec in /usr/local/lib/python3.12/dist-packages (from torch<3.0,>=2.0->braindecode) (2025.3.0)\n",
            "Requirement already satisfied: nvidia-cuda-nvrtc-cu12==12.6.77 in /usr/local/lib/python3.12/dist-packages (from torch<3.0,>=2.0->braindecode) (12.6.77)\n",
            "Requirement already satisfied: nvidia-cuda-runtime-cu12==12.6.77 in /usr/local/lib/python3.12/dist-packages (from torch<3.0,>=2.0->braindecode) (12.6.77)\n",
            "Requirement already satisfied: nvidia-cuda-cupti-cu12==12.6.80 in /usr/local/lib/python3.12/dist-packages (from torch<3.0,>=2.0->braindecode) (12.6.80)\n",
            "Requirement already satisfied: nvidia-cudnn-cu12==9.10.2.21 in /usr/local/lib/python3.12/dist-packages (from torch<3.0,>=2.0->braindecode) (9.10.2.21)\n",
            "Requirement already satisfied: nvidia-cublas-cu12==12.6.4.1 in /usr/local/lib/python3.12/dist-packages (from torch<3.0,>=2.0->braindecode) (12.6.4.1)\n",
            "Requirement already satisfied: nvidia-cufft-cu12==11.3.0.4 in /usr/local/lib/python3.12/dist-packages (from torch<3.0,>=2.0->braindecode) (11.3.0.4)\n",
            "Requirement already satisfied: nvidia-curand-cu12==10.3.7.77 in /usr/local/lib/python3.12/dist-packages (from torch<3.0,>=2.0->braindecode) (10.3.7.77)\n",
            "Requirement already satisfied: nvidia-cusolver-cu12==11.7.1.2 in /usr/local/lib/python3.12/dist-packages (from torch<3.0,>=2.0->braindecode) (11.7.1.2)\n",
            "Requirement already satisfied: nvidia-cusparse-cu12==12.5.4.2 in /usr/local/lib/python3.12/dist-packages (from torch<3.0,>=2.0->braindecode) (12.5.4.2)\n",
            "Requirement already satisfied: nvidia-cusparselt-cu12==0.7.1 in /usr/local/lib/python3.12/dist-packages (from torch<3.0,>=2.0->braindecode) (0.7.1)\n",
            "Requirement already satisfied: nvidia-nccl-cu12==2.27.3 in /usr/local/lib/python3.12/dist-packages (from torch<3.0,>=2.0->braindecode) (2.27.3)\n",
            "Requirement already satisfied: nvidia-nvtx-cu12==12.6.77 in /usr/local/lib/python3.12/dist-packages (from torch<3.0,>=2.0->braindecode) (12.6.77)\n",
            "Requirement already satisfied: nvidia-nvjitlink-cu12==12.6.85 in /usr/local/lib/python3.12/dist-packages (from torch<3.0,>=2.0->braindecode) (12.6.85)\n",
            "Requirement already satisfied: nvidia-cufile-cu12==1.11.1.6 in /usr/local/lib/python3.12/dist-packages (from torch<3.0,>=2.0->braindecode) (1.11.1.6)\n",
            "Requirement already satisfied: triton==3.4.0 in /usr/local/lib/python3.12/dist-packages (from torch<3.0,>=2.0->braindecode) (3.4.0)\n",
            "Collecting axial-positional-embedding (from linear_attention_transformer->braindecode)\n",
            "  Downloading axial_positional_embedding-0.3.12-py3-none-any.whl.metadata (4.3 kB)\n",
            "Collecting linformer>=0.1.0 (from linear_attention_transformer->braindecode)\n",
            "  Downloading linformer-0.2.3-py3-none-any.whl.metadata (602 bytes)\n",
            "Collecting local-attention (from linear_attention_transformer->braindecode)\n",
            "  Downloading local_attention-1.11.2-py3-none-any.whl.metadata (929 bytes)\n",
            "Collecting product-key-memory>=0.1.5 (from linear_attention_transformer->braindecode)\n",
            "  Downloading product_key_memory-0.2.11-py3-none-any.whl.metadata (717 bytes)\n",
            "Requirement already satisfied: pytz>=2020.1 in /usr/local/lib/python3.12/dist-packages (from pandas->braindecode) (2025.2)\n",
            "Requirement already satisfied: tzdata>=2022.7 in /usr/local/lib/python3.12/dist-packages (from pandas->braindecode) (2025.2)\n",
            "Requirement already satisfied: aiohttp>=3.10.11 in /usr/local/lib/python3.12/dist-packages (from wfdb->braindecode) (3.12.15)\n",
            "Collecting pandas (from braindecode)\n",
            "  Downloading pandas-2.3.3-cp312-cp312-manylinux_2_24_x86_64.manylinux_2_28_x86_64.whl.metadata (91 kB)\n",
            "\u001b[2K     \u001b[90m━━━━━━━━━━━━━━━━━━━━━━━━━━━━━━━━━━━━━━━━\u001b[0m \u001b[32m91.2/91.2 kB\u001b[0m \u001b[31m5.6 MB/s\u001b[0m eta \u001b[36m0:00:00\u001b[0m\n",
            "\u001b[?25hRequirement already satisfied: requests>=2.8.1 in /usr/local/lib/python3.12/dist-packages (from wfdb->braindecode) (2.32.4)\n",
            "Requirement already satisfied: soundfile>=0.10.0 in /usr/local/lib/python3.12/dist-packages (from wfdb->braindecode) (0.13.1)\n",
            "Requirement already satisfied: aiohappyeyeballs>=2.5.0 in /usr/local/lib/python3.12/dist-packages (from aiohttp>=3.10.11->wfdb->braindecode) (2.6.1)\n",
            "Requirement already satisfied: aiosignal>=1.4.0 in /usr/local/lib/python3.12/dist-packages (from aiohttp>=3.10.11->wfdb->braindecode) (1.4.0)\n",
            "Requirement already satisfied: attrs>=17.3.0 in /usr/local/lib/python3.12/dist-packages (from aiohttp>=3.10.11->wfdb->braindecode) (25.3.0)\n",
            "Requirement already satisfied: frozenlist>=1.1.1 in /usr/local/lib/python3.12/dist-packages (from aiohttp>=3.10.11->wfdb->braindecode) (1.7.0)\n",
            "Requirement already satisfied: multidict<7.0,>=4.5 in /usr/local/lib/python3.12/dist-packages (from aiohttp>=3.10.11->wfdb->braindecode) (6.6.4)\n",
            "Requirement already satisfied: propcache>=0.2.0 in /usr/local/lib/python3.12/dist-packages (from aiohttp>=3.10.11->wfdb->braindecode) (0.3.2)\n",
            "Requirement already satisfied: yarl<2.0,>=1.17.0 in /usr/local/lib/python3.12/dist-packages (from aiohttp>=3.10.11->wfdb->braindecode) (1.20.1)\n",
            "Requirement already satisfied: platformdirs>=2.5.0 in /usr/local/lib/python3.12/dist-packages (from pooch>=1.5->mne>=1.10.0->braindecode) (4.4.0)\n",
            "Collecting colt5-attention>=0.10.14 (from product-key-memory>=0.1.5->linear_attention_transformer->braindecode)\n",
            "  Downloading CoLT5_attention-0.11.1-py3-none-any.whl.metadata (737 bytes)\n",
            "Requirement already satisfied: six>=1.5 in /usr/local/lib/python3.12/dist-packages (from python-dateutil>=2.7->matplotlib->braindecode) (1.17.0)\n",
            "Requirement already satisfied: charset_normalizer<4,>=2 in /usr/local/lib/python3.12/dist-packages (from requests>=2.8.1->wfdb->braindecode) (3.4.3)\n",
            "Requirement already satisfied: idna<4,>=2.5 in /usr/local/lib/python3.12/dist-packages (from requests>=2.8.1->wfdb->braindecode) (3.10)\n",
            "Requirement already satisfied: urllib3<3,>=1.21.1 in /usr/local/lib/python3.12/dist-packages (from requests>=2.8.1->wfdb->braindecode) (2.5.0)\n",
            "Requirement already satisfied: certifi>=2017.4.17 in /usr/local/lib/python3.12/dist-packages (from requests>=2.8.1->wfdb->braindecode) (2025.8.3)\n",
            "Requirement already satisfied: threadpoolctl>=3.1.0 in /usr/local/lib/python3.12/dist-packages (from scikit-learn>=0.22.0->skorch>=1.2.0->braindecode) (3.6.0)\n",
            "Requirement already satisfied: cffi>=1.0 in /usr/local/lib/python3.12/dist-packages (from soundfile>=0.10.0->wfdb->braindecode) (2.0.0)\n",
            "Requirement already satisfied: mpmath<1.4,>=1.1.0 in /usr/local/lib/python3.12/dist-packages (from sympy>=1.13.3->torch<3.0,>=2.0->braindecode) (1.3.0)\n",
            "Requirement already satisfied: MarkupSafe>=2.0 in /usr/local/lib/python3.12/dist-packages (from jinja2->mne>=1.10.0->braindecode) (3.0.2)\n",
            "Collecting hyper-connections>=0.1.8 (from local-attention->linear_attention_transformer->braindecode)\n",
            "  Downloading hyper_connections-0.2.1-py3-none-any.whl.metadata (6.0 kB)\n",
            "Requirement already satisfied: pycparser in /usr/local/lib/python3.12/dist-packages (from cffi>=1.0->soundfile>=0.10.0->wfdb->braindecode) (2.23)\n",
            "Downloading braindecode-1.2.0-py3-none-any.whl (305 kB)\n",
            "\u001b[2K   \u001b[90m━━━━━━━━━━━━━━━━━━━━━━━━━━━━━━━━━━━━━━━━\u001b[0m \u001b[32m305.2/305.2 kB\u001b[0m \u001b[31m17.5 MB/s\u001b[0m eta \u001b[36m0:00:00\u001b[0m\n",
            "\u001b[?25hDownloading mne-1.10.1-py3-none-any.whl (7.4 MB)\n",
            "\u001b[2K   \u001b[90m━━━━━━━━━━━━━━━━━━━━━━━━━━━━━━━━━━━━━━━━\u001b[0m \u001b[32m7.4/7.4 MB\u001b[0m \u001b[31m121.4 MB/s\u001b[0m eta \u001b[36m0:00:00\u001b[0m\n",
            "\u001b[?25hDownloading mne_bids-0.17.0-py3-none-any.whl (168 kB)\n",
            "\u001b[2K   \u001b[90m━━━━━━━━━━━━━━━━━━━━━━━━━━━━━━━━━━━━━━━━\u001b[0m \u001b[32m168.9/168.9 kB\u001b[0m \u001b[31m17.3 MB/s\u001b[0m eta \u001b[36m0:00:00\u001b[0m\n",
            "\u001b[?25hDownloading skorch-1.2.0-py3-none-any.whl (263 kB)\n",
            "\u001b[2K   \u001b[90m━━━━━━━━━━━━━━━━━━━━━━━━━━━━━━━━━━━━━━━━\u001b[0m \u001b[32m263.1/263.1 kB\u001b[0m \u001b[31m24.3 MB/s\u001b[0m eta \u001b[36m0:00:00\u001b[0m\n",
            "\u001b[?25hDownloading torchinfo-1.8.0-py3-none-any.whl (23 kB)\n",
            "Downloading docstring_inheritance-2.2.2-py3-none-any.whl (24 kB)\n",
            "Downloading linear_attention_transformer-0.19.1-py3-none-any.whl (12 kB)\n",
            "Downloading wfdb-4.3.0-py3-none-any.whl (163 kB)\n",
            "\u001b[2K   \u001b[90m━━━━━━━━━━━━━━━━━━━━━━━━━━━━━━━━━━━━━━━━\u001b[0m \u001b[32m163.8/163.8 kB\u001b[0m \u001b[31m15.9 MB/s\u001b[0m eta \u001b[36m0:00:00\u001b[0m\n",
            "\u001b[?25hDownloading pandas-2.3.3-cp312-cp312-manylinux_2_24_x86_64.manylinux_2_28_x86_64.whl (12.4 MB)\n",
            "\u001b[2K   \u001b[90m━━━━━━━━━━━━━━━━━━━━━━━━━━━━━━━━━━━━━━━━\u001b[0m \u001b[32m12.4/12.4 MB\u001b[0m \u001b[31m141.0 MB/s\u001b[0m eta \u001b[36m0:00:00\u001b[0m\n",
            "\u001b[?25hDownloading linformer-0.2.3-py3-none-any.whl (6.2 kB)\n",
            "Downloading product_key_memory-0.2.11-py3-none-any.whl (6.5 kB)\n",
            "Downloading axial_positional_embedding-0.3.12-py3-none-any.whl (6.7 kB)\n",
            "Downloading local_attention-1.11.2-py3-none-any.whl (9.5 kB)\n",
            "Downloading CoLT5_attention-0.11.1-py3-none-any.whl (18 kB)\n",
            "Downloading hyper_connections-0.2.1-py3-none-any.whl (16 kB)\n",
            "Installing collected packages: torchinfo, docstring_inheritance, pandas, wfdb, skorch, mne, mne_bids, linformer, hyper-connections, axial-positional-embedding, local-attention, colt5-attention, product-key-memory, linear_attention_transformer, braindecode\n",
            "  Attempting uninstall: pandas\n",
            "    Found existing installation: pandas 2.2.2\n",
            "    Uninstalling pandas-2.2.2:\n",
            "      Successfully uninstalled pandas-2.2.2\n",
            "\u001b[31mERROR: pip's dependency resolver does not currently take into account all the packages that are installed. This behaviour is the source of the following dependency conflicts.\n",
            "google-colab 1.0.0 requires pandas==2.2.2, but you have pandas 2.3.3 which is incompatible.\n",
            "dask-cudf-cu12 25.6.0 requires pandas<2.2.4dev0,>=2.0, but you have pandas 2.3.3 which is incompatible.\n",
            "cudf-cu12 25.6.0 requires pandas<2.2.4dev0,>=2.0, but you have pandas 2.3.3 which is incompatible.\u001b[0m\u001b[31m\n",
            "\u001b[0mSuccessfully installed axial-positional-embedding-0.3.12 braindecode-1.2.0 colt5-attention-0.11.1 docstring_inheritance-2.2.2 hyper-connections-0.2.1 linear_attention_transformer-0.19.1 linformer-0.2.3 local-attention-1.11.2 mne-1.10.1 mne_bids-0.17.0 pandas-2.3.3 product-key-memory-0.2.11 skorch-1.2.0 torchinfo-1.8.0 wfdb-4.3.0\n",
            "Collecting eegdash\n",
            "  Downloading eegdash-0.3.8-py3-none-any.whl.metadata (10 kB)\n",
            "Requirement already satisfied: braindecode>=1.0 in /usr/local/lib/python3.12/dist-packages (from eegdash) (1.2.0)\n",
            "Requirement already satisfied: mne_bids>=0.16.0 in /usr/local/lib/python3.12/dist-packages (from eegdash) (0.17.0)\n",
            "Requirement already satisfied: numba in /usr/local/lib/python3.12/dist-packages (from eegdash) (0.60.0)\n",
            "Requirement already satisfied: numpy in /usr/local/lib/python3.12/dist-packages (from eegdash) (2.0.2)\n",
            "Requirement already satisfied: pandas in /usr/local/lib/python3.12/dist-packages (from eegdash) (2.3.3)\n",
            "Collecting pybids (from eegdash)\n",
            "  Downloading pybids-0.20.0-py3-none-any.whl.metadata (8.1 kB)\n",
            "Collecting pymongo (from eegdash)\n",
            "  Downloading pymongo-4.15.1-cp312-cp312-manylinux_2_17_x86_64.manylinux2014_x86_64.whl.metadata (22 kB)\n",
            "Requirement already satisfied: python-dotenv in /usr/local/lib/python3.12/dist-packages (from eegdash) (1.1.1)\n",
            "Collecting s3fs (from eegdash)\n",
            "  Downloading s3fs-2025.9.0-py3-none-any.whl.metadata (1.4 kB)\n",
            "Requirement already satisfied: scipy in /usr/local/lib/python3.12/dist-packages (from eegdash) (1.16.2)\n",
            "Requirement already satisfied: tqdm in /usr/local/lib/python3.12/dist-packages (from eegdash) (4.67.1)\n",
            "Requirement already satisfied: xarray in /usr/local/lib/python3.12/dist-packages (from eegdash) (2025.9.0)\n",
            "Collecting h5io>=0.2.4 (from eegdash)\n",
            "  Downloading h5io-0.2.5-py3-none-any.whl.metadata (4.0 kB)\n",
            "Collecting pymatreader (from eegdash)\n",
            "  Downloading pymatreader-1.1.0-py3-none-any.whl.metadata (1.6 kB)\n",
            "Collecting eeglabio (from eegdash)\n",
            "  Downloading eeglabio-0.1.2-py3-none-any.whl.metadata (3.0 kB)\n",
            "Requirement already satisfied: tabulate in /usr/local/lib/python3.12/dist-packages (from eegdash) (0.9.0)\n",
            "Requirement already satisfied: docstring_inheritance in /usr/local/lib/python3.12/dist-packages (from eegdash) (2.2.2)\n",
            "Requirement already satisfied: mne>=1.10.0 in /usr/local/lib/python3.12/dist-packages (from braindecode>=1.0->eegdash) (1.10.1)\n",
            "Requirement already satisfied: matplotlib in /usr/local/lib/python3.12/dist-packages (from braindecode>=1.0->eegdash) (3.10.0)\n",
            "Requirement already satisfied: h5py in /usr/local/lib/python3.12/dist-packages (from braindecode>=1.0->eegdash) (3.14.0)\n",
            "Requirement already satisfied: skorch>=1.2.0 in /usr/local/lib/python3.12/dist-packages (from braindecode>=1.0->eegdash) (1.2.0)\n",
            "Requirement already satisfied: torch<3.0,>=2.0 in /usr/local/lib/python3.12/dist-packages (from braindecode>=1.0->eegdash) (2.8.0+cu126)\n",
            "Requirement already satisfied: torchaudio<3.0,>=2.0 in /usr/local/lib/python3.12/dist-packages (from braindecode>=1.0->eegdash) (2.8.0+cu126)\n",
            "Requirement already satisfied: einops in /usr/local/lib/python3.12/dist-packages (from braindecode>=1.0->eegdash) (0.8.1)\n",
            "Requirement already satisfied: joblib in /usr/local/lib/python3.12/dist-packages (from braindecode>=1.0->eegdash) (1.5.2)\n",
            "Requirement already satisfied: torchinfo~=1.8 in /usr/local/lib/python3.12/dist-packages (from braindecode>=1.0->eegdash) (1.8.0)\n",
            "Requirement already satisfied: wfdb in /usr/local/lib/python3.12/dist-packages (from braindecode>=1.0->eegdash) (4.3.0)\n",
            "Requirement already satisfied: linear_attention_transformer in /usr/local/lib/python3.12/dist-packages (from braindecode>=1.0->eegdash) (0.19.1)\n",
            "Requirement already satisfied: llvmlite<0.44,>=0.43.0dev0 in /usr/local/lib/python3.12/dist-packages (from numba->eegdash) (0.43.0)\n",
            "Requirement already satisfied: python-dateutil>=2.8.2 in /usr/local/lib/python3.12/dist-packages (from pandas->eegdash) (2.9.0.post0)\n",
            "Requirement already satisfied: pytz>=2020.1 in /usr/local/lib/python3.12/dist-packages (from pandas->eegdash) (2025.2)\n",
            "Requirement already satisfied: tzdata>=2022.7 in /usr/local/lib/python3.12/dist-packages (from pandas->eegdash) (2025.2)\n",
            "Requirement already satisfied: nibabel>=4.0 in /usr/local/lib/python3.12/dist-packages (from pybids->eegdash) (5.3.2)\n",
            "Collecting formulaic>=0.3 (from pybids->eegdash)\n",
            "  Downloading formulaic-1.2.1-py3-none-any.whl.metadata (7.0 kB)\n",
            "Requirement already satisfied: sqlalchemy>=1.4.31 in /usr/local/lib/python3.12/dist-packages (from pybids->eegdash) (2.0.43)\n",
            "Collecting bids-validator>=1.14.7 (from pybids->eegdash)\n",
            "  Downloading bids_validator-1.14.7.post0-py3-none-any.whl.metadata (39 kB)\n",
            "Collecting num2words>=0.5.10 (from pybids->eegdash)\n",
            "  Downloading num2words-0.5.14-py3-none-any.whl.metadata (13 kB)\n",
            "Requirement already satisfied: click>=8.0 in /usr/local/lib/python3.12/dist-packages (from pybids->eegdash) (8.2.1)\n",
            "Collecting universal_pathlib>=0.2.2 (from pybids->eegdash)\n",
            "  Downloading universal_pathlib-0.3.0-py3-none-any.whl.metadata (26 kB)\n",
            "Requirement already satisfied: frozendict>=2.3 in /usr/local/lib/python3.12/dist-packages (from pybids->eegdash) (2.4.6)\n",
            "Collecting xmltodict (from pymatreader->eegdash)\n",
            "  Downloading xmltodict-1.0.2-py3-none-any.whl.metadata (15 kB)\n",
            "Collecting dnspython<3.0.0,>=1.16.0 (from pymongo->eegdash)\n",
            "  Downloading dnspython-2.8.0-py3-none-any.whl.metadata (5.7 kB)\n",
            "Collecting aiobotocore<3.0.0,>=2.5.4 (from s3fs->eegdash)\n",
            "  Downloading aiobotocore-2.24.2-py3-none-any.whl.metadata (25 kB)\n",
            "Collecting fsspec==2025.9.0 (from s3fs->eegdash)\n",
            "  Downloading fsspec-2025.9.0-py3-none-any.whl.metadata (10 kB)\n",
            "Requirement already satisfied: aiohttp!=4.0.0a0,!=4.0.0a1 in /usr/local/lib/python3.12/dist-packages (from s3fs->eegdash) (3.12.15)\n",
            "Requirement already satisfied: packaging>=24.1 in /usr/local/lib/python3.12/dist-packages (from xarray->eegdash) (25.0)\n",
            "Collecting aioitertools<1.0.0,>=0.5.1 (from aiobotocore<3.0.0,>=2.5.4->s3fs->eegdash)\n",
            "  Downloading aioitertools-0.12.0-py3-none-any.whl.metadata (3.8 kB)\n",
            "Collecting botocore<1.40.19,>=1.40.15 (from aiobotocore<3.0.0,>=2.5.4->s3fs->eegdash)\n",
            "  Downloading botocore-1.40.18-py3-none-any.whl.metadata (5.7 kB)\n",
            "Collecting jmespath<2.0.0,>=0.7.1 (from aiobotocore<3.0.0,>=2.5.4->s3fs->eegdash)\n",
            "  Downloading jmespath-1.0.1-py3-none-any.whl.metadata (7.6 kB)\n",
            "Requirement already satisfied: multidict<7.0.0,>=6.0.0 in /usr/local/lib/python3.12/dist-packages (from aiobotocore<3.0.0,>=2.5.4->s3fs->eegdash) (6.6.4)\n",
            "Requirement already satisfied: wrapt<2.0.0,>=1.10.10 in /usr/local/lib/python3.12/dist-packages (from aiobotocore<3.0.0,>=2.5.4->s3fs->eegdash) (1.17.3)\n",
            "Requirement already satisfied: aiohappyeyeballs>=2.5.0 in /usr/local/lib/python3.12/dist-packages (from aiohttp!=4.0.0a0,!=4.0.0a1->s3fs->eegdash) (2.6.1)\n",
            "Requirement already satisfied: aiosignal>=1.4.0 in /usr/local/lib/python3.12/dist-packages (from aiohttp!=4.0.0a0,!=4.0.0a1->s3fs->eegdash) (1.4.0)\n",
            "Requirement already satisfied: attrs>=17.3.0 in /usr/local/lib/python3.12/dist-packages (from aiohttp!=4.0.0a0,!=4.0.0a1->s3fs->eegdash) (25.3.0)\n",
            "Requirement already satisfied: frozenlist>=1.1.1 in /usr/local/lib/python3.12/dist-packages (from aiohttp!=4.0.0a0,!=4.0.0a1->s3fs->eegdash) (1.7.0)\n",
            "Requirement already satisfied: propcache>=0.2.0 in /usr/local/lib/python3.12/dist-packages (from aiohttp!=4.0.0a0,!=4.0.0a1->s3fs->eegdash) (0.3.2)\n",
            "Requirement already satisfied: yarl<2.0,>=1.17.0 in /usr/local/lib/python3.12/dist-packages (from aiohttp!=4.0.0a0,!=4.0.0a1->s3fs->eegdash) (1.20.1)\n",
            "Collecting bidsschematools>=0.10 (from bids-validator>=1.14.7->pybids->eegdash)\n",
            "  Downloading bidsschematools-1.1.0-py3-none-any.whl.metadata (3.2 kB)\n",
            "Collecting interface-meta>=1.2.0 (from formulaic>=0.3->pybids->eegdash)\n",
            "  Downloading interface_meta-1.3.0-py3-none-any.whl.metadata (6.7 kB)\n",
            "Requirement already satisfied: narwhals>=1.17 in /usr/local/lib/python3.12/dist-packages (from formulaic>=0.3->pybids->eegdash) (2.5.0)\n",
            "Requirement already satisfied: typing-extensions>=4.2.0 in /usr/local/lib/python3.12/dist-packages (from formulaic>=0.3->pybids->eegdash) (4.15.0)\n",
            "Requirement already satisfied: decorator in /usr/local/lib/python3.12/dist-packages (from mne>=1.10.0->braindecode>=1.0->eegdash) (4.4.2)\n",
            "Requirement already satisfied: jinja2 in /usr/local/lib/python3.12/dist-packages (from mne>=1.10.0->braindecode>=1.0->eegdash) (3.1.6)\n",
            "Requirement already satisfied: lazy-loader>=0.3 in /usr/local/lib/python3.12/dist-packages (from mne>=1.10.0->braindecode>=1.0->eegdash) (0.4)\n",
            "Requirement already satisfied: pooch>=1.5 in /usr/local/lib/python3.12/dist-packages (from mne>=1.10.0->braindecode>=1.0->eegdash) (1.8.2)\n",
            "Requirement already satisfied: contourpy>=1.0.1 in /usr/local/lib/python3.12/dist-packages (from matplotlib->braindecode>=1.0->eegdash) (1.3.3)\n",
            "Requirement already satisfied: cycler>=0.10 in /usr/local/lib/python3.12/dist-packages (from matplotlib->braindecode>=1.0->eegdash) (0.12.1)\n",
            "Requirement already satisfied: fonttools>=4.22.0 in /usr/local/lib/python3.12/dist-packages (from matplotlib->braindecode>=1.0->eegdash) (4.60.0)\n",
            "Requirement already satisfied: kiwisolver>=1.3.1 in /usr/local/lib/python3.12/dist-packages (from matplotlib->braindecode>=1.0->eegdash) (1.4.9)\n",
            "Requirement already satisfied: pillow>=8 in /usr/local/lib/python3.12/dist-packages (from matplotlib->braindecode>=1.0->eegdash) (11.3.0)\n",
            "Requirement already satisfied: pyparsing>=2.3.1 in /usr/local/lib/python3.12/dist-packages (from matplotlib->braindecode>=1.0->eegdash) (3.2.4)\n",
            "Collecting docopt>=0.6.2 (from num2words>=0.5.10->pybids->eegdash)\n",
            "  Downloading docopt-0.6.2.tar.gz (25 kB)\n",
            "  Preparing metadata (setup.py) ... \u001b[?25l\u001b[?25hdone\n",
            "Requirement already satisfied: six>=1.5 in /usr/local/lib/python3.12/dist-packages (from python-dateutil>=2.8.2->pandas->eegdash) (1.17.0)\n",
            "Requirement already satisfied: scikit-learn>=0.22.0 in /usr/local/lib/python3.12/dist-packages (from skorch>=1.2.0->braindecode>=1.0->eegdash) (1.6.1)\n",
            "Requirement already satisfied: greenlet>=1 in /usr/local/lib/python3.12/dist-packages (from sqlalchemy>=1.4.31->pybids->eegdash) (3.2.4)\n",
            "Requirement already satisfied: filelock in /usr/local/lib/python3.12/dist-packages (from torch<3.0,>=2.0->braindecode>=1.0->eegdash) (3.19.1)\n",
            "Requirement already satisfied: setuptools in /usr/local/lib/python3.12/dist-packages (from torch<3.0,>=2.0->braindecode>=1.0->eegdash) (75.2.0)\n",
            "Requirement already satisfied: sympy>=1.13.3 in /usr/local/lib/python3.12/dist-packages (from torch<3.0,>=2.0->braindecode>=1.0->eegdash) (1.13.3)\n",
            "Requirement already satisfied: networkx in /usr/local/lib/python3.12/dist-packages (from torch<3.0,>=2.0->braindecode>=1.0->eegdash) (3.5)\n",
            "Requirement already satisfied: nvidia-cuda-nvrtc-cu12==12.6.77 in /usr/local/lib/python3.12/dist-packages (from torch<3.0,>=2.0->braindecode>=1.0->eegdash) (12.6.77)\n",
            "Requirement already satisfied: nvidia-cuda-runtime-cu12==12.6.77 in /usr/local/lib/python3.12/dist-packages (from torch<3.0,>=2.0->braindecode>=1.0->eegdash) (12.6.77)\n",
            "Requirement already satisfied: nvidia-cuda-cupti-cu12==12.6.80 in /usr/local/lib/python3.12/dist-packages (from torch<3.0,>=2.0->braindecode>=1.0->eegdash) (12.6.80)\n",
            "Requirement already satisfied: nvidia-cudnn-cu12==9.10.2.21 in /usr/local/lib/python3.12/dist-packages (from torch<3.0,>=2.0->braindecode>=1.0->eegdash) (9.10.2.21)\n",
            "Requirement already satisfied: nvidia-cublas-cu12==12.6.4.1 in /usr/local/lib/python3.12/dist-packages (from torch<3.0,>=2.0->braindecode>=1.0->eegdash) (12.6.4.1)\n",
            "Requirement already satisfied: nvidia-cufft-cu12==11.3.0.4 in /usr/local/lib/python3.12/dist-packages (from torch<3.0,>=2.0->braindecode>=1.0->eegdash) (11.3.0.4)\n",
            "Requirement already satisfied: nvidia-curand-cu12==10.3.7.77 in /usr/local/lib/python3.12/dist-packages (from torch<3.0,>=2.0->braindecode>=1.0->eegdash) (10.3.7.77)\n",
            "Requirement already satisfied: nvidia-cusolver-cu12==11.7.1.2 in /usr/local/lib/python3.12/dist-packages (from torch<3.0,>=2.0->braindecode>=1.0->eegdash) (11.7.1.2)\n",
            "Requirement already satisfied: nvidia-cusparse-cu12==12.5.4.2 in /usr/local/lib/python3.12/dist-packages (from torch<3.0,>=2.0->braindecode>=1.0->eegdash) (12.5.4.2)\n",
            "Requirement already satisfied: nvidia-cusparselt-cu12==0.7.1 in /usr/local/lib/python3.12/dist-packages (from torch<3.0,>=2.0->braindecode>=1.0->eegdash) (0.7.1)\n",
            "Requirement already satisfied: nvidia-nccl-cu12==2.27.3 in /usr/local/lib/python3.12/dist-packages (from torch<3.0,>=2.0->braindecode>=1.0->eegdash) (2.27.3)\n",
            "Requirement already satisfied: nvidia-nvtx-cu12==12.6.77 in /usr/local/lib/python3.12/dist-packages (from torch<3.0,>=2.0->braindecode>=1.0->eegdash) (12.6.77)\n",
            "Requirement already satisfied: nvidia-nvjitlink-cu12==12.6.85 in /usr/local/lib/python3.12/dist-packages (from torch<3.0,>=2.0->braindecode>=1.0->eegdash) (12.6.85)\n",
            "Requirement already satisfied: nvidia-cufile-cu12==1.11.1.6 in /usr/local/lib/python3.12/dist-packages (from torch<3.0,>=2.0->braindecode>=1.0->eegdash) (1.11.1.6)\n",
            "Requirement already satisfied: triton==3.4.0 in /usr/local/lib/python3.12/dist-packages (from torch<3.0,>=2.0->braindecode>=1.0->eegdash) (3.4.0)\n",
            "Collecting pathlib-abc==0.5.1 (from universal_pathlib>=0.2.2->pybids->eegdash)\n",
            "  Downloading pathlib_abc-0.5.1-py3-none-any.whl.metadata (4.6 kB)\n",
            "Requirement already satisfied: axial-positional-embedding in /usr/local/lib/python3.12/dist-packages (from linear_attention_transformer->braindecode>=1.0->eegdash) (0.3.12)\n",
            "Requirement already satisfied: linformer>=0.1.0 in /usr/local/lib/python3.12/dist-packages (from linear_attention_transformer->braindecode>=1.0->eegdash) (0.2.3)\n",
            "Requirement already satisfied: local-attention in /usr/local/lib/python3.12/dist-packages (from linear_attention_transformer->braindecode>=1.0->eegdash) (1.11.2)\n",
            "Requirement already satisfied: product-key-memory>=0.1.5 in /usr/local/lib/python3.12/dist-packages (from linear_attention_transformer->braindecode>=1.0->eegdash) (0.2.11)\n",
            "Requirement already satisfied: requests>=2.8.1 in /usr/local/lib/python3.12/dist-packages (from wfdb->braindecode>=1.0->eegdash) (2.32.4)\n",
            "Requirement already satisfied: soundfile>=0.10.0 in /usr/local/lib/python3.12/dist-packages (from wfdb->braindecode>=1.0->eegdash) (0.13.1)\n",
            "Collecting acres (from bidsschematools>=0.10->bids-validator>=1.14.7->pybids->eegdash)\n",
            "  Downloading acres-0.5.0-py3-none-any.whl.metadata (6.2 kB)\n",
            "Requirement already satisfied: pyyaml in /usr/local/lib/python3.12/dist-packages (from bidsschematools>=0.10->bids-validator>=1.14.7->pybids->eegdash) (6.0.2)\n",
            "Requirement already satisfied: urllib3!=2.2.0,<3,>=1.25.4 in /usr/local/lib/python3.12/dist-packages (from botocore<1.40.19,>=1.40.15->aiobotocore<3.0.0,>=2.5.4->s3fs->eegdash) (2.5.0)\n",
            "Requirement already satisfied: platformdirs>=2.5.0 in /usr/local/lib/python3.12/dist-packages (from pooch>=1.5->mne>=1.10.0->braindecode>=1.0->eegdash) (4.4.0)\n",
            "Requirement already satisfied: colt5-attention>=0.10.14 in /usr/local/lib/python3.12/dist-packages (from product-key-memory>=0.1.5->linear_attention_transformer->braindecode>=1.0->eegdash) (0.11.1)\n",
            "Requirement already satisfied: charset_normalizer<4,>=2 in /usr/local/lib/python3.12/dist-packages (from requests>=2.8.1->wfdb->braindecode>=1.0->eegdash) (3.4.3)\n",
            "Requirement already satisfied: idna<4,>=2.5 in /usr/local/lib/python3.12/dist-packages (from requests>=2.8.1->wfdb->braindecode>=1.0->eegdash) (3.10)\n",
            "Requirement already satisfied: certifi>=2017.4.17 in /usr/local/lib/python3.12/dist-packages (from requests>=2.8.1->wfdb->braindecode>=1.0->eegdash) (2025.8.3)\n",
            "Requirement already satisfied: threadpoolctl>=3.1.0 in /usr/local/lib/python3.12/dist-packages (from scikit-learn>=0.22.0->skorch>=1.2.0->braindecode>=1.0->eegdash) (3.6.0)\n",
            "Requirement already satisfied: cffi>=1.0 in /usr/local/lib/python3.12/dist-packages (from soundfile>=0.10.0->wfdb->braindecode>=1.0->eegdash) (2.0.0)\n",
            "Requirement already satisfied: mpmath<1.4,>=1.1.0 in /usr/local/lib/python3.12/dist-packages (from sympy>=1.13.3->torch<3.0,>=2.0->braindecode>=1.0->eegdash) (1.3.0)\n",
            "Requirement already satisfied: MarkupSafe>=2.0 in /usr/local/lib/python3.12/dist-packages (from jinja2->mne>=1.10.0->braindecode>=1.0->eegdash) (3.0.2)\n",
            "Requirement already satisfied: hyper-connections>=0.1.8 in /usr/local/lib/python3.12/dist-packages (from local-attention->linear_attention_transformer->braindecode>=1.0->eegdash) (0.2.1)\n",
            "Requirement already satisfied: pycparser in /usr/local/lib/python3.12/dist-packages (from cffi>=1.0->soundfile>=0.10.0->wfdb->braindecode>=1.0->eegdash) (2.23)\n",
            "Downloading eegdash-0.3.8-py3-none-any.whl (71 kB)\n",
            "\u001b[2K   \u001b[90m━━━━━━━━━━━━━━━━━━━━━━━━━━━━━━━━━━━━━━━━\u001b[0m \u001b[32m71.7/71.7 kB\u001b[0m \u001b[31m7.2 MB/s\u001b[0m eta \u001b[36m0:00:00\u001b[0m\n",
            "\u001b[?25hDownloading h5io-0.2.5-py3-none-any.whl (17 kB)\n",
            "Downloading eeglabio-0.1.2-py3-none-any.whl (10 kB)\n",
            "Downloading pybids-0.20.0-py3-none-any.whl (215 kB)\n",
            "\u001b[2K   \u001b[90m━━━━━━━━━━━━━━━━━━━━━━━━━━━━━━━━━━━━━━━━\u001b[0m \u001b[32m215.7/215.7 kB\u001b[0m \u001b[31m12.9 MB/s\u001b[0m eta \u001b[36m0:00:00\u001b[0m\n",
            "\u001b[?25hDownloading pymatreader-1.1.0-py3-none-any.whl (9.5 kB)\n",
            "Downloading pymongo-4.15.1-cp312-cp312-manylinux_2_17_x86_64.manylinux2014_x86_64.whl (1.7 MB)\n",
            "\u001b[2K   \u001b[90m━━━━━━━━━━━━━━━━━━━━━━━━━━━━━━━━━━━━━━━━\u001b[0m \u001b[32m1.7/1.7 MB\u001b[0m \u001b[31m60.0 MB/s\u001b[0m eta \u001b[36m0:00:00\u001b[0m\n",
            "\u001b[?25hDownloading s3fs-2025.9.0-py3-none-any.whl (30 kB)\n",
            "Downloading fsspec-2025.9.0-py3-none-any.whl (199 kB)\n",
            "\u001b[2K   \u001b[90m━━━━━━━━━━━━━━━━━━━━━━━━━━━━━━━━━━━━━━━━\u001b[0m \u001b[32m199.3/199.3 kB\u001b[0m \u001b[31m19.0 MB/s\u001b[0m eta \u001b[36m0:00:00\u001b[0m\n",
            "\u001b[?25hDownloading aiobotocore-2.24.2-py3-none-any.whl (85 kB)\n",
            "\u001b[2K   \u001b[90m━━━━━━━━━━━━━━━━━━━━━━━━━━━━━━━━━━━━━━━━\u001b[0m \u001b[32m85.4/85.4 kB\u001b[0m \u001b[31m10.2 MB/s\u001b[0m eta \u001b[36m0:00:00\u001b[0m\n",
            "\u001b[?25hDownloading bids_validator-1.14.7.post0-py3-none-any.whl (23 kB)\n",
            "Downloading dnspython-2.8.0-py3-none-any.whl (331 kB)\n",
            "\u001b[2K   \u001b[90m━━━━━━━━━━━━━━━━━━━━━━━━━━━━━━━━━━━━━━━━\u001b[0m \u001b[32m331.1/331.1 kB\u001b[0m \u001b[31m32.8 MB/s\u001b[0m eta \u001b[36m0:00:00\u001b[0m\n",
            "\u001b[?25hDownloading formulaic-1.2.1-py3-none-any.whl (117 kB)\n",
            "\u001b[2K   \u001b[90m━━━━━━━━━━━━━━━━━━━━━━━━━━━━━━━━━━━━━━━━\u001b[0m \u001b[32m117.3/117.3 kB\u001b[0m \u001b[31m11.3 MB/s\u001b[0m eta \u001b[36m0:00:00\u001b[0m\n",
            "\u001b[?25hDownloading num2words-0.5.14-py3-none-any.whl (163 kB)\n",
            "\u001b[2K   \u001b[90m━━━━━━━━━━━━━━━━━━━━━━━━━━━━━━━━━━━━━━━━\u001b[0m \u001b[32m163.5/163.5 kB\u001b[0m \u001b[31m17.9 MB/s\u001b[0m eta \u001b[36m0:00:00\u001b[0m\n",
            "\u001b[?25hDownloading universal_pathlib-0.3.0-py3-none-any.whl (56 kB)\n",
            "\u001b[2K   \u001b[90m━━━━━━━━━━━━━━━━━━━━━━━━━━━━━━━━━━━━━━━━\u001b[0m \u001b[32m57.0/57.0 kB\u001b[0m \u001b[31m5.2 MB/s\u001b[0m eta \u001b[36m0:00:00\u001b[0m\n",
            "\u001b[?25hDownloading pathlib_abc-0.5.1-py3-none-any.whl (20 kB)\n",
            "Downloading xmltodict-1.0.2-py3-none-any.whl (13 kB)\n",
            "Downloading aioitertools-0.12.0-py3-none-any.whl (24 kB)\n",
            "Downloading bidsschematools-1.1.0-py3-none-any.whl (179 kB)\n",
            "\u001b[2K   \u001b[90m━━━━━━━━━━━━━━━━━━━━━━━━━━━━━━━━━━━━━━━━\u001b[0m \u001b[32m179.2/179.2 kB\u001b[0m \u001b[31m17.5 MB/s\u001b[0m eta \u001b[36m0:00:00\u001b[0m\n",
            "\u001b[?25hDownloading botocore-1.40.18-py3-none-any.whl (14.0 MB)\n",
            "\u001b[2K   \u001b[90m━━━━━━━━━━━━━━━━━━━━━━━━━━━━━━━━━━━━━━━━\u001b[0m \u001b[32m14.0/14.0 MB\u001b[0m \u001b[31m134.5 MB/s\u001b[0m eta \u001b[36m0:00:00\u001b[0m\n",
            "\u001b[?25hDownloading interface_meta-1.3.0-py3-none-any.whl (14 kB)\n",
            "Downloading jmespath-1.0.1-py3-none-any.whl (20 kB)\n",
            "Downloading acres-0.5.0-py3-none-any.whl (12 kB)\n",
            "Building wheels for collected packages: docopt\n",
            "  Building wheel for docopt (setup.py) ... \u001b[?25l\u001b[?25hdone\n",
            "  Created wheel for docopt: filename=docopt-0.6.2-py2.py3-none-any.whl size=13706 sha256=896a4c2d8c4c4fa09e293e3bb029459b8f7a0eb439b63444273245472e990891\n",
            "  Stored in directory: /root/.cache/pip/wheels/1a/bf/a1/4cee4f7678c68c5875ca89eaccf460593539805c3906722228\n",
            "Successfully built docopt\n",
            "Installing collected packages: docopt, xmltodict, pathlib-abc, num2words, jmespath, interface-meta, fsspec, dnspython, aioitertools, acres, universal_pathlib, pymongo, pymatreader, h5io, eeglabio, botocore, bidsschematools, formulaic, bids-validator, aiobotocore, s3fs, pybids, eegdash\n",
            "  Attempting uninstall: fsspec\n",
            "    Found existing installation: fsspec 2025.3.0\n",
            "    Uninstalling fsspec-2025.3.0:\n",
            "      Successfully uninstalled fsspec-2025.3.0\n",
            "\u001b[31mERROR: pip's dependency resolver does not currently take into account all the packages that are installed. This behaviour is the source of the following dependency conflicts.\n",
            "dask-cudf-cu12 25.6.0 requires pandas<2.2.4dev0,>=2.0, but you have pandas 2.3.3 which is incompatible.\n",
            "cudf-cu12 25.6.0 requires pandas<2.2.4dev0,>=2.0, but you have pandas 2.3.3 which is incompatible.\n",
            "gcsfs 2025.3.0 requires fsspec==2025.3.0, but you have fsspec 2025.9.0 which is incompatible.\n",
            "datasets 4.0.0 requires fsspec[http]<=2025.3.0,>=2023.1.0, but you have fsspec 2025.9.0 which is incompatible.\u001b[0m\u001b[31m\n",
            "\u001b[0mSuccessfully installed acres-0.5.0 aiobotocore-2.24.2 aioitertools-0.12.0 bids-validator-1.14.7.post0 bidsschematools-1.1.0 botocore-1.40.18 dnspython-2.8.0 docopt-0.6.2 eegdash-0.3.8 eeglabio-0.1.2 formulaic-1.2.1 fsspec-2025.9.0 h5io-0.2.5 interface-meta-1.3.0 jmespath-1.0.1 num2words-0.5.14 pathlib-abc-0.5.1 pybids-0.20.0 pymatreader-1.1.0 pymongo-4.15.1 s3fs-2025.9.0 universal_pathlib-0.3.0 xmltodict-1.0.2\n"
          ]
        }
      ]
    },
    {
      "cell_type": "code",
      "source": [
        "from pathlib import Path\n",
        "import math\n",
        "import os\n",
        "import random\n",
        "from joblib import Parallel, delayed\n",
        "\n",
        "import torch\n",
        "from torch.utils.data import DataLoader\n",
        "from torch import optim\n",
        "from torch.nn.functional import l1_loss\n",
        "from braindecode.preprocessing import preprocess, Preprocessor, create_fixed_length_windows, create_windows_from_events\n",
        "from braindecode.datasets.base import EEGWindowsDataset, BaseConcatDataset, BaseDataset\n",
        "from braindecode.models import EEGNeX\n",
        "from eegdash import EEGChallengeDataset\n",
        "from typing import Optional\n",
        "from torch.nn import Module\n",
        "from torch.optim.lr_scheduler import LRScheduler\n",
        "from tqdm import tqdm\n",
        "from eegdash.dataset import EEGChallengeDataset\n",
        "from eegdash.hbn.windows import annotate_trials_with_target, add_aux_anchors, add_extras_columns, keep_only_recordings_with"
      ],
      "metadata": {
        "id": "P2fFM-Dlk2VZ"
      },
      "execution_count": 8,
      "outputs": []
    },
    {
      "cell_type": "code",
      "execution_count": 9,
      "metadata": {
        "colab": {
          "base_uri": "https://localhost:8080/"
        },
        "id": "gZa1UpBSj_Pq",
        "outputId": "502cb763-d2b1-49b2-a0b0-c096d4cff12e"
      },
      "outputs": [
        {
          "output_type": "stream",
          "name": "stdout",
          "text": [
            "CUDA-enabled GPU found. Training should be faster.\n"
          ]
        }
      ],
      "source": [
        "# Identify whether a CUDA-enabled GPU is available\n",
        "import torch\n",
        "\n",
        "device = \"cuda\" if torch.cuda.is_available() else \"cpu\"\n",
        "if device == \"cuda\":\n",
        "    msg ='CUDA-enabled GPU found. Training should be faster.'\n",
        "else:\n",
        "    msg = (\n",
        "        \"No GPU found. Training will be carried out on CPU, which might be \"\n",
        "        \"slower.\\n\\nIf running on Google Colab, you can request a GPU runtime by\"\n",
        "        \" clicking\\n`Runtime/Change runtime type` in the top bar menu, then \"\n",
        "        \"selecting \\'T4 GPU\\'\\nunder \\'Hardware accelerator\\'.\"\n",
        "    )\n",
        "print(msg)"
      ]
    },
    {
      "cell_type": "code",
      "source": [
        "release_list = ['R1', 'R2', 'R3', 'R4', 'R5', 'R6',\n",
        "                'R7', 'R8', 'R9', 'R10', 'R11']\n",
        "train_set = []\n",
        "valid_set = []\n",
        "test_set = []\n",
        "\n",
        "DATA_DIR = Path('data')\n",
        "DATA_DIR.mkdir(parents=True, exist_ok=True)\n"
      ],
      "metadata": {
        "id": "_s57mK56kkDd"
      },
      "execution_count": 10,
      "outputs": []
    },
    {
      "cell_type": "code",
      "source": [
        "for release in tqdm(release_list):\n",
        "  dataset_ccd = EEGChallengeDataset(\n",
        "      task = 'contrastChangeDetection',\n",
        "      release = release,\n",
        "      cache_dir = DATA_DIR,\n",
        "      mini = True\n",
        "  )\n",
        "  raws = Parallel(n_jobs=-1)(\n",
        "      delayed(lambda d: d.raw)(d) for d in dataset_ccd.datasets\n",
        "  )\n",
        "\n",
        "  EPOCH_LEN_S = 2.0\n",
        "  SFREQ = 100\n",
        "\n",
        "  transformation_offline = [\n",
        "      Preprocessor(\n",
        "          annotate_trials_with_target,\n",
        "          target_field = 'rt_from_stimulus', epoch_length =  EPOCH_LEN_S,\n",
        "          require_stimulus = True,\n",
        "          require_response = True,\n",
        "          apply_on_array = False,\n",
        "      ),\n",
        "      Preprocessor(add_aux_anchors, apply_on_array=False),\n",
        "  ]\n",
        "  preprocess (dataset_ccd, transformation_offline, n_jobs=1)\n",
        "\n",
        "  ANCHOR = 'stimulus_anchor'\n",
        "  SHIFT_AFTER_STIM = 0.5\n",
        "  WINDOW_LEN = 2.0\n",
        "\n",
        "  dataset = keep_only_recordings_with(ANCHOR, dataset_ccd)\n",
        "\n",
        "  single_windows = create_windows_from_events(\n",
        "      dataset,\n",
        "      mapping={ANCHOR: 0},\n",
        "      trial_start_offset_samples = int(SHIFT_AFTER_STIM * SFREQ),\n",
        "      trial_stop_offset_samples = int((SHIFT_AFTER_STIM + WINDOW_LEN) * SFREQ),\n",
        "      window_size_samples = int(EPOCH_LEN_S * SFREQ),\n",
        "      window_stride_samples = SFREQ,\n",
        "      preload = True,\n",
        "  )\n",
        "\n",
        "  single_windows = add_extras_columns(\n",
        "      single_windows,\n",
        "      dataset,\n",
        "      desc = ANCHOR, keys = (\"target\", \"rt_from_stimulus\", \"rt_from_trialstart\",\n",
        "            \"stimulus_onset\", \"response_onset\", \"correct\", \"response_type\"))\n",
        "\n",
        "  meta_information = single_windows.get_metadata()\n",
        "\n",
        "  subjects = meta_information['subject'].unique()\n",
        "  sub_rm = [\"NDARWV769JM7\", \"NDARME789TD2\", \"NDARUA442ZVF\", \"NDARJP304NK1\",\n",
        "            \"NDARTY128YLU\", \"NDARDW550GU6\", \"NDARLD243KRE\", \"NDARUJ292JXV\", \"NDARBA381JGH\"]\n",
        "  subjects = [s for s in subjects if s not in sub_rm]\n",
        "\n",
        "  subject_split = single_windows.split('subject')\n",
        "\n",
        "  if release != 'R5':\n",
        "    for s in subject_split:\n",
        "      train_set.append(subject_split[s])\n",
        "  else:\n",
        "    for s in subject_split:\n",
        "      valid_set.append(subject_split[s])"
      ],
      "metadata": {
        "id": "qPLErRCBkoiz",
        "colab": {
          "base_uri": "https://localhost:8080/"
        },
        "outputId": "d6ce8ee9-6acb-4d1b-f654-a12a0b9a3c8c"
      },
      "execution_count": 12,
      "outputs": [
        {
          "output_type": "stream",
          "name": "stderr",
          "text": [
            "\r  0%|          | 0/11 [00:00<?, ?it/s]/usr/local/lib/python3.12/dist-packages/eegdash/dataset/dataset.py:126: UserWarning: \n",
            "\n",
            "[EEGChallengeDataset] EEG 2025 Competition Data Notice:\n",
            "-------------------------------------------------------\n",
            "This object loads the HBN dataset that has been preprocessed for the EEG Challenge:\n",
            "  - Downsampled from 500Hz to 100Hz\n",
            "  - Bandpass filtered (0.5–50 Hz)\n",
            "\n",
            "For full preprocessing details, see:\n",
            "  https://github.com/eeg2025/downsample-datasets\n",
            "\n",
            "IMPORTANT: The data accessed via `EEGChallengeDataset` is NOT identical to what you get from `EEGDashDataset` directly.\n",
            "If you are participating in the competition, always use `EEGChallengeDataset` to ensure consistency with the challenge data.\n",
            "\n",
            "\n",
            "  warn(\n"
          ]
        },
        {
          "output_type": "stream",
          "name": "stdout",
          "text": [
            "Used Annotations descriptions: [np.str_('stimulus_anchor')]\n",
            "Used Annotations descriptions: [np.str_('stimulus_anchor')]\n",
            "Used Annotations descriptions: [np.str_('stimulus_anchor')]\n",
            "Used Annotations descriptions: [np.str_('stimulus_anchor')]\n",
            "Used Annotations descriptions: [np.str_('stimulus_anchor')]\n",
            "Used Annotations descriptions: [np.str_('stimulus_anchor')]\n",
            "Used Annotations descriptions: [np.str_('stimulus_anchor')]\n",
            "Used Annotations descriptions: [np.str_('stimulus_anchor')]\n",
            "Used Annotations descriptions: [np.str_('stimulus_anchor')]\n",
            "Used Annotations descriptions: [np.str_('stimulus_anchor')]\n",
            "Used Annotations descriptions: [np.str_('stimulus_anchor')]\n",
            "Used Annotations descriptions: [np.str_('stimulus_anchor')]\n",
            "Used Annotations descriptions: [np.str_('stimulus_anchor')]\n",
            "Used Annotations descriptions: [np.str_('stimulus_anchor')]\n",
            "Used Annotations descriptions: [np.str_('stimulus_anchor')]\n",
            "Used Annotations descriptions: [np.str_('stimulus_anchor')]\n",
            "Used Annotations descriptions: [np.str_('stimulus_anchor')]\n",
            "Used Annotations descriptions: [np.str_('stimulus_anchor')]\n",
            "Used Annotations descriptions: [np.str_('stimulus_anchor')]\n",
            "Used Annotations descriptions: [np.str_('stimulus_anchor')]\n",
            "Used Annotations descriptions: [np.str_('stimulus_anchor')]\n",
            "Used Annotations descriptions: [np.str_('stimulus_anchor')]\n",
            "Used Annotations descriptions: [np.str_('stimulus_anchor')]\n",
            "Used Annotations descriptions: [np.str_('stimulus_anchor')]\n",
            "Used Annotations descriptions: [np.str_('stimulus_anchor')]\n",
            "Used Annotations descriptions: [np.str_('stimulus_anchor')]\n",
            "Used Annotations descriptions: [np.str_('stimulus_anchor')]\n",
            "Used Annotations descriptions: [np.str_('stimulus_anchor')]\n",
            "Used Annotations descriptions: [np.str_('stimulus_anchor')]\n",
            "Used Annotations descriptions: [np.str_('stimulus_anchor')]\n",
            "Used Annotations descriptions: [np.str_('stimulus_anchor')]\n",
            "Used Annotations descriptions: [np.str_('stimulus_anchor')]\n",
            "Used Annotations descriptions: [np.str_('stimulus_anchor')]\n",
            "Used Annotations descriptions: [np.str_('stimulus_anchor')]\n",
            "Used Annotations descriptions: [np.str_('stimulus_anchor')]\n",
            "Used Annotations descriptions: [np.str_('stimulus_anchor')]\n",
            "Used Annotations descriptions: [np.str_('stimulus_anchor')]\n",
            "Used Annotations descriptions: [np.str_('stimulus_anchor')]\n",
            "Used Annotations descriptions: [np.str_('stimulus_anchor')]\n",
            "Used Annotations descriptions: [np.str_('stimulus_anchor')]\n",
            "Used Annotations descriptions: [np.str_('stimulus_anchor')]\n",
            "Used Annotations descriptions: [np.str_('stimulus_anchor')]\n",
            "Used Annotations descriptions: [np.str_('stimulus_anchor')]\n",
            "Used Annotations descriptions: [np.str_('stimulus_anchor')]\n",
            "Used Annotations descriptions: [np.str_('stimulus_anchor')]\n",
            "Used Annotations descriptions: [np.str_('stimulus_anchor')]\n",
            "Used Annotations descriptions: [np.str_('stimulus_anchor')]\n",
            "Used Annotations descriptions: [np.str_('stimulus_anchor')]\n",
            "Used Annotations descriptions: [np.str_('stimulus_anchor')]\n",
            "Used Annotations descriptions: [np.str_('stimulus_anchor')]\n",
            "Used Annotations descriptions: [np.str_('stimulus_anchor')]\n",
            "Used Annotations descriptions: [np.str_('stimulus_anchor')]\n",
            "Used Annotations descriptions: [np.str_('stimulus_anchor')]\n",
            "Used Annotations descriptions: [np.str_('stimulus_anchor')]\n",
            "Used Annotations descriptions: [np.str_('stimulus_anchor')]\n",
            "Used Annotations descriptions: [np.str_('stimulus_anchor')]\n",
            "Used Annotations descriptions: [np.str_('stimulus_anchor')]\n",
            "Used Annotations descriptions: [np.str_('stimulus_anchor')]\n",
            "Used Annotations descriptions: [np.str_('stimulus_anchor')]\n",
            "Used Annotations descriptions: [np.str_('stimulus_anchor')]\n"
          ]
        },
        {
          "output_type": "stream",
          "name": "stderr",
          "text": [
            "\r  9%|▉         | 1/11 [00:14<02:28, 14.85s/it]/usr/local/lib/python3.12/dist-packages/eegdash/dataset/dataset.py:126: UserWarning: \n",
            "\n",
            "[EEGChallengeDataset] EEG 2025 Competition Data Notice:\n",
            "-------------------------------------------------------\n",
            "This object loads the HBN dataset that has been preprocessed for the EEG Challenge:\n",
            "  - Downsampled from 500Hz to 100Hz\n",
            "  - Bandpass filtered (0.5–50 Hz)\n",
            "\n",
            "For full preprocessing details, see:\n",
            "  https://github.com/eeg2025/downsample-datasets\n",
            "\n",
            "IMPORTANT: The data accessed via `EEGChallengeDataset` is NOT identical to what you get from `EEGDashDataset` directly.\n",
            "If you are participating in the competition, always use `EEGChallengeDataset` to ensure consistency with the challenge data.\n",
            "\n",
            "\n",
            "  warn(\n"
          ]
        },
        {
          "output_type": "stream",
          "name": "stdout",
          "text": [
            "Used Annotations descriptions: [np.str_('stimulus_anchor')]\n",
            "Used Annotations descriptions: [np.str_('stimulus_anchor')]\n",
            "Used Annotations descriptions: [np.str_('stimulus_anchor')]\n",
            "Used Annotations descriptions: [np.str_('stimulus_anchor')]\n",
            "Used Annotations descriptions: [np.str_('stimulus_anchor')]\n",
            "Used Annotations descriptions: [np.str_('stimulus_anchor')]\n",
            "Used Annotations descriptions: [np.str_('stimulus_anchor')]\n",
            "Used Annotations descriptions: [np.str_('stimulus_anchor')]\n",
            "Used Annotations descriptions: [np.str_('stimulus_anchor')]\n",
            "Used Annotations descriptions: [np.str_('stimulus_anchor')]\n",
            "Used Annotations descriptions: [np.str_('stimulus_anchor')]\n",
            "Used Annotations descriptions: [np.str_('stimulus_anchor')]\n",
            "Used Annotations descriptions: [np.str_('stimulus_anchor')]\n",
            "Used Annotations descriptions: [np.str_('stimulus_anchor')]\n",
            "Used Annotations descriptions: [np.str_('stimulus_anchor')]\n",
            "Used Annotations descriptions: [np.str_('stimulus_anchor')]\n",
            "Used Annotations descriptions: [np.str_('stimulus_anchor')]\n",
            "Used Annotations descriptions: [np.str_('stimulus_anchor')]\n",
            "Used Annotations descriptions: [np.str_('stimulus_anchor')]\n",
            "Used Annotations descriptions: [np.str_('stimulus_anchor')]\n",
            "Used Annotations descriptions: [np.str_('stimulus_anchor')]\n",
            "Used Annotations descriptions: [np.str_('stimulus_anchor')]\n",
            "Used Annotations descriptions: [np.str_('stimulus_anchor')]\n",
            "Used Annotations descriptions: [np.str_('stimulus_anchor')]\n",
            "Used Annotations descriptions: [np.str_('stimulus_anchor')]\n",
            "Used Annotations descriptions: [np.str_('stimulus_anchor')]\n",
            "Used Annotations descriptions: [np.str_('stimulus_anchor')]\n",
            "Used Annotations descriptions: [np.str_('stimulus_anchor')]\n",
            "Used Annotations descriptions: [np.str_('stimulus_anchor')]\n",
            "Used Annotations descriptions: [np.str_('stimulus_anchor')]\n",
            "Used Annotations descriptions: [np.str_('stimulus_anchor')]\n",
            "Used Annotations descriptions: [np.str_('stimulus_anchor')]\n",
            "Used Annotations descriptions: [np.str_('stimulus_anchor')]\n",
            "Used Annotations descriptions: [np.str_('stimulus_anchor')]\n",
            "Used Annotations descriptions: [np.str_('stimulus_anchor')]\n",
            "Used Annotations descriptions: [np.str_('stimulus_anchor')]\n",
            "Used Annotations descriptions: [np.str_('stimulus_anchor')]\n",
            "Used Annotations descriptions: [np.str_('stimulus_anchor')]\n",
            "Used Annotations descriptions: [np.str_('stimulus_anchor')]\n",
            "Used Annotations descriptions: [np.str_('stimulus_anchor')]\n",
            "Used Annotations descriptions: [np.str_('stimulus_anchor')]\n",
            "Used Annotations descriptions: [np.str_('stimulus_anchor')]\n",
            "Used Annotations descriptions: [np.str_('stimulus_anchor')]\n",
            "Used Annotations descriptions: [np.str_('stimulus_anchor')]\n",
            "Used Annotations descriptions: [np.str_('stimulus_anchor')]\n",
            "Used Annotations descriptions: [np.str_('stimulus_anchor')]\n",
            "Used Annotations descriptions: [np.str_('stimulus_anchor')]\n",
            "Used Annotations descriptions: [np.str_('stimulus_anchor')]\n",
            "Used Annotations descriptions: [np.str_('stimulus_anchor')]\n",
            "Used Annotations descriptions: [np.str_('stimulus_anchor')]\n",
            "Used Annotations descriptions: [np.str_('stimulus_anchor')]\n",
            "Used Annotations descriptions: [np.str_('stimulus_anchor')]\n",
            "Used Annotations descriptions: [np.str_('stimulus_anchor')]\n",
            "Used Annotations descriptions: [np.str_('stimulus_anchor')]\n",
            "Used Annotations descriptions: [np.str_('stimulus_anchor')]\n",
            "Used Annotations descriptions: [np.str_('stimulus_anchor')]\n",
            "Used Annotations descriptions: [np.str_('stimulus_anchor')]\n",
            "Used Annotations descriptions: [np.str_('stimulus_anchor')]\n",
            "Used Annotations descriptions: [np.str_('stimulus_anchor')]\n",
            "Used Annotations descriptions: [np.str_('stimulus_anchor')]\n"
          ]
        },
        {
          "output_type": "stream",
          "name": "stderr",
          "text": [
            "\r 18%|█▊        | 2/11 [03:54<20:19, 135.53s/it]/usr/local/lib/python3.12/dist-packages/eegdash/dataset/dataset.py:126: UserWarning: \n",
            "\n",
            "[EEGChallengeDataset] EEG 2025 Competition Data Notice:\n",
            "-------------------------------------------------------\n",
            "This object loads the HBN dataset that has been preprocessed for the EEG Challenge:\n",
            "  - Downsampled from 500Hz to 100Hz\n",
            "  - Bandpass filtered (0.5–50 Hz)\n",
            "\n",
            "For full preprocessing details, see:\n",
            "  https://github.com/eeg2025/downsample-datasets\n",
            "\n",
            "IMPORTANT: The data accessed via `EEGChallengeDataset` is NOT identical to what you get from `EEGDashDataset` directly.\n",
            "If you are participating in the competition, always use `EEGChallengeDataset` to ensure consistency with the challenge data.\n",
            "\n",
            "\n",
            "  warn(\n"
          ]
        },
        {
          "output_type": "stream",
          "name": "stdout",
          "text": [
            "Used Annotations descriptions: [np.str_('stimulus_anchor')]\n",
            "Used Annotations descriptions: [np.str_('stimulus_anchor')]\n",
            "Used Annotations descriptions: [np.str_('stimulus_anchor')]\n",
            "Used Annotations descriptions: [np.str_('stimulus_anchor')]\n",
            "Used Annotations descriptions: [np.str_('stimulus_anchor')]\n",
            "Used Annotations descriptions: [np.str_('stimulus_anchor')]\n",
            "Used Annotations descriptions: [np.str_('stimulus_anchor')]\n",
            "Used Annotations descriptions: [np.str_('stimulus_anchor')]\n",
            "Used Annotations descriptions: [np.str_('stimulus_anchor')]\n",
            "Used Annotations descriptions: [np.str_('stimulus_anchor')]\n",
            "Used Annotations descriptions: [np.str_('stimulus_anchor')]\n",
            "Used Annotations descriptions: [np.str_('stimulus_anchor')]\n",
            "Used Annotations descriptions: [np.str_('stimulus_anchor')]\n",
            "Used Annotations descriptions: [np.str_('stimulus_anchor')]\n",
            "Used Annotations descriptions: [np.str_('stimulus_anchor')]\n",
            "Used Annotations descriptions: [np.str_('stimulus_anchor')]\n",
            "Used Annotations descriptions: [np.str_('stimulus_anchor')]\n",
            "Used Annotations descriptions: [np.str_('stimulus_anchor')]\n",
            "Used Annotations descriptions: [np.str_('stimulus_anchor')]\n",
            "Used Annotations descriptions: [np.str_('stimulus_anchor')]\n",
            "Used Annotations descriptions: [np.str_('stimulus_anchor')]\n",
            "Used Annotations descriptions: [np.str_('stimulus_anchor')]\n",
            "Used Annotations descriptions: [np.str_('stimulus_anchor')]\n",
            "Used Annotations descriptions: [np.str_('stimulus_anchor')]\n",
            "Used Annotations descriptions: [np.str_('stimulus_anchor')]\n",
            "Used Annotations descriptions: [np.str_('stimulus_anchor')]\n",
            "Used Annotations descriptions: [np.str_('stimulus_anchor')]\n",
            "Used Annotations descriptions: [np.str_('stimulus_anchor')]\n",
            "Used Annotations descriptions: [np.str_('stimulus_anchor')]\n",
            "Used Annotations descriptions: [np.str_('stimulus_anchor')]\n",
            "Used Annotations descriptions: [np.str_('stimulus_anchor')]\n",
            "Used Annotations descriptions: [np.str_('stimulus_anchor')]\n",
            "Used Annotations descriptions: [np.str_('stimulus_anchor')]\n",
            "Used Annotations descriptions: [np.str_('stimulus_anchor')]\n",
            "Used Annotations descriptions: [np.str_('stimulus_anchor')]\n",
            "Used Annotations descriptions: [np.str_('stimulus_anchor')]\n",
            "Used Annotations descriptions: [np.str_('stimulus_anchor')]\n",
            "Used Annotations descriptions: [np.str_('stimulus_anchor')]\n",
            "Used Annotations descriptions: [np.str_('stimulus_anchor')]\n",
            "Used Annotations descriptions: [np.str_('stimulus_anchor')]\n",
            "Used Annotations descriptions: [np.str_('stimulus_anchor')]\n",
            "Used Annotations descriptions: [np.str_('stimulus_anchor')]\n",
            "Used Annotations descriptions: [np.str_('stimulus_anchor')]\n",
            "Used Annotations descriptions: [np.str_('stimulus_anchor')]\n",
            "Used Annotations descriptions: [np.str_('stimulus_anchor')]\n",
            "Used Annotations descriptions: [np.str_('stimulus_anchor')]\n",
            "Used Annotations descriptions: [np.str_('stimulus_anchor')]\n",
            "Used Annotations descriptions: [np.str_('stimulus_anchor')]\n",
            "Used Annotations descriptions: [np.str_('stimulus_anchor')]\n",
            "Used Annotations descriptions: [np.str_('stimulus_anchor')]\n",
            "Used Annotations descriptions: [np.str_('stimulus_anchor')]\n",
            "Used Annotations descriptions: [np.str_('stimulus_anchor')]\n",
            "Used Annotations descriptions: [np.str_('stimulus_anchor')]\n",
            "Used Annotations descriptions: [np.str_('stimulus_anchor')]\n",
            "Used Annotations descriptions: [np.str_('stimulus_anchor')]\n",
            "Used Annotations descriptions: [np.str_('stimulus_anchor')]\n",
            "Used Annotations descriptions: [np.str_('stimulus_anchor')]\n",
            "Used Annotations descriptions: [np.str_('stimulus_anchor')]\n",
            "Used Annotations descriptions: [np.str_('stimulus_anchor')]\n",
            "Used Annotations descriptions: [np.str_('stimulus_anchor')]\n"
          ]
        },
        {
          "output_type": "stream",
          "name": "stderr",
          "text": [
            "\r 27%|██▋       | 3/11 [07:53<24:20, 182.57s/it]/usr/local/lib/python3.12/dist-packages/eegdash/dataset/dataset.py:126: UserWarning: \n",
            "\n",
            "[EEGChallengeDataset] EEG 2025 Competition Data Notice:\n",
            "-------------------------------------------------------\n",
            "This object loads the HBN dataset that has been preprocessed for the EEG Challenge:\n",
            "  - Downsampled from 500Hz to 100Hz\n",
            "  - Bandpass filtered (0.5–50 Hz)\n",
            "\n",
            "For full preprocessing details, see:\n",
            "  https://github.com/eeg2025/downsample-datasets\n",
            "\n",
            "IMPORTANT: The data accessed via `EEGChallengeDataset` is NOT identical to what you get from `EEGDashDataset` directly.\n",
            "If you are participating in the competition, always use `EEGChallengeDataset` to ensure consistency with the challenge data.\n",
            "\n",
            "\n",
            "  warn(\n"
          ]
        },
        {
          "output_type": "stream",
          "name": "stdout",
          "text": [
            "Used Annotations descriptions: [np.str_('stimulus_anchor')]\n",
            "Used Annotations descriptions: [np.str_('stimulus_anchor')]\n",
            "Used Annotations descriptions: [np.str_('stimulus_anchor')]\n",
            "Used Annotations descriptions: [np.str_('stimulus_anchor')]\n",
            "Used Annotations descriptions: [np.str_('stimulus_anchor')]\n",
            "Used Annotations descriptions: [np.str_('stimulus_anchor')]\n",
            "Used Annotations descriptions: [np.str_('stimulus_anchor')]\n",
            "Used Annotations descriptions: [np.str_('stimulus_anchor')]\n",
            "Used Annotations descriptions: [np.str_('stimulus_anchor')]\n",
            "Used Annotations descriptions: [np.str_('stimulus_anchor')]\n",
            "Used Annotations descriptions: [np.str_('stimulus_anchor')]\n",
            "Used Annotations descriptions: [np.str_('stimulus_anchor')]\n",
            "Used Annotations descriptions: [np.str_('stimulus_anchor')]\n",
            "Used Annotations descriptions: [np.str_('stimulus_anchor')]\n",
            "Used Annotations descriptions: [np.str_('stimulus_anchor')]\n",
            "Used Annotations descriptions: [np.str_('stimulus_anchor')]\n",
            "Used Annotations descriptions: [np.str_('stimulus_anchor')]\n",
            "Used Annotations descriptions: [np.str_('stimulus_anchor')]\n",
            "Used Annotations descriptions: [np.str_('stimulus_anchor')]\n",
            "Used Annotations descriptions: [np.str_('stimulus_anchor')]\n",
            "Used Annotations descriptions: [np.str_('stimulus_anchor')]\n",
            "Used Annotations descriptions: [np.str_('stimulus_anchor')]\n",
            "Used Annotations descriptions: [np.str_('stimulus_anchor')]\n",
            "Used Annotations descriptions: [np.str_('stimulus_anchor')]\n",
            "Used Annotations descriptions: [np.str_('stimulus_anchor')]\n",
            "Used Annotations descriptions: [np.str_('stimulus_anchor')]\n",
            "Used Annotations descriptions: [np.str_('stimulus_anchor')]\n",
            "Used Annotations descriptions: [np.str_('stimulus_anchor')]\n",
            "Used Annotations descriptions: [np.str_('stimulus_anchor')]\n",
            "Used Annotations descriptions: [np.str_('stimulus_anchor')]\n",
            "Used Annotations descriptions: [np.str_('stimulus_anchor')]\n",
            "Used Annotations descriptions: [np.str_('stimulus_anchor')]\n",
            "Used Annotations descriptions: [np.str_('stimulus_anchor')]\n",
            "Used Annotations descriptions: [np.str_('stimulus_anchor')]\n",
            "Used Annotations descriptions: [np.str_('stimulus_anchor')]\n",
            "Used Annotations descriptions: [np.str_('stimulus_anchor')]\n",
            "Used Annotations descriptions: [np.str_('stimulus_anchor')]\n",
            "Used Annotations descriptions: [np.str_('stimulus_anchor')]\n",
            "Used Annotations descriptions: [np.str_('stimulus_anchor')]\n",
            "Used Annotations descriptions: [np.str_('stimulus_anchor')]\n",
            "Used Annotations descriptions: [np.str_('stimulus_anchor')]\n",
            "Used Annotations descriptions: [np.str_('stimulus_anchor')]\n",
            "Used Annotations descriptions: [np.str_('stimulus_anchor')]\n",
            "Used Annotations descriptions: [np.str_('stimulus_anchor')]\n",
            "Used Annotations descriptions: [np.str_('stimulus_anchor')]\n",
            "Used Annotations descriptions: [np.str_('stimulus_anchor')]\n",
            "Used Annotations descriptions: [np.str_('stimulus_anchor')]\n",
            "Used Annotations descriptions: [np.str_('stimulus_anchor')]\n",
            "Used Annotations descriptions: [np.str_('stimulus_anchor')]\n",
            "Used Annotations descriptions: [np.str_('stimulus_anchor')]\n",
            "Used Annotations descriptions: [np.str_('stimulus_anchor')]\n",
            "Used Annotations descriptions: [np.str_('stimulus_anchor')]\n",
            "Used Annotations descriptions: [np.str_('stimulus_anchor')]\n",
            "Used Annotations descriptions: [np.str_('stimulus_anchor')]\n",
            "Used Annotations descriptions: [np.str_('stimulus_anchor')]\n",
            "Used Annotations descriptions: [np.str_('stimulus_anchor')]\n",
            "Used Annotations descriptions: [np.str_('stimulus_anchor')]\n",
            "Used Annotations descriptions: [np.str_('stimulus_anchor')]\n",
            "Used Annotations descriptions: [np.str_('stimulus_anchor')]\n",
            "Used Annotations descriptions: [np.str_('stimulus_anchor')]\n"
          ]
        },
        {
          "output_type": "stream",
          "name": "stderr",
          "text": [
            "\r 36%|███▋      | 4/11 [11:18<22:21, 191.62s/it]/usr/local/lib/python3.12/dist-packages/eegdash/dataset/dataset.py:126: UserWarning: \n",
            "\n",
            "[EEGChallengeDataset] EEG 2025 Competition Data Notice:\n",
            "-------------------------------------------------------\n",
            "This object loads the HBN dataset that has been preprocessed for the EEG Challenge:\n",
            "  - Downsampled from 500Hz to 100Hz\n",
            "  - Bandpass filtered (0.5–50 Hz)\n",
            "\n",
            "For full preprocessing details, see:\n",
            "  https://github.com/eeg2025/downsample-datasets\n",
            "\n",
            "IMPORTANT: The data accessed via `EEGChallengeDataset` is NOT identical to what you get from `EEGDashDataset` directly.\n",
            "If you are participating in the competition, always use `EEGChallengeDataset` to ensure consistency with the challenge data.\n",
            "\n",
            "\n",
            "  warn(\n"
          ]
        },
        {
          "output_type": "stream",
          "name": "stdout",
          "text": [
            "Used Annotations descriptions: [np.str_('stimulus_anchor')]\n",
            "Used Annotations descriptions: [np.str_('stimulus_anchor')]\n",
            "Used Annotations descriptions: [np.str_('stimulus_anchor')]\n",
            "Used Annotations descriptions: [np.str_('stimulus_anchor')]\n",
            "Used Annotations descriptions: [np.str_('stimulus_anchor')]\n",
            "Used Annotations descriptions: [np.str_('stimulus_anchor')]\n",
            "Used Annotations descriptions: [np.str_('stimulus_anchor')]\n",
            "Used Annotations descriptions: [np.str_('stimulus_anchor')]\n",
            "Used Annotations descriptions: [np.str_('stimulus_anchor')]\n",
            "Used Annotations descriptions: [np.str_('stimulus_anchor')]\n",
            "Used Annotations descriptions: [np.str_('stimulus_anchor')]\n",
            "Used Annotations descriptions: [np.str_('stimulus_anchor')]\n",
            "Used Annotations descriptions: [np.str_('stimulus_anchor')]\n",
            "Used Annotations descriptions: [np.str_('stimulus_anchor')]\n",
            "Used Annotations descriptions: [np.str_('stimulus_anchor')]\n",
            "Used Annotations descriptions: [np.str_('stimulus_anchor')]\n",
            "Used Annotations descriptions: [np.str_('stimulus_anchor')]\n",
            "Used Annotations descriptions: [np.str_('stimulus_anchor')]\n",
            "Used Annotations descriptions: [np.str_('stimulus_anchor')]\n",
            "Used Annotations descriptions: [np.str_('stimulus_anchor')]\n",
            "Used Annotations descriptions: [np.str_('stimulus_anchor')]\n",
            "Used Annotations descriptions: [np.str_('stimulus_anchor')]\n",
            "Used Annotations descriptions: [np.str_('stimulus_anchor')]\n",
            "Used Annotations descriptions: [np.str_('stimulus_anchor')]\n",
            "Used Annotations descriptions: [np.str_('stimulus_anchor')]\n",
            "Used Annotations descriptions: [np.str_('stimulus_anchor')]\n",
            "Used Annotations descriptions: [np.str_('stimulus_anchor')]\n",
            "Used Annotations descriptions: [np.str_('stimulus_anchor')]\n",
            "Used Annotations descriptions: [np.str_('stimulus_anchor')]\n",
            "Used Annotations descriptions: [np.str_('stimulus_anchor')]\n",
            "Used Annotations descriptions: [np.str_('stimulus_anchor')]\n",
            "Used Annotations descriptions: [np.str_('stimulus_anchor')]\n",
            "Used Annotations descriptions: [np.str_('stimulus_anchor')]\n",
            "Used Annotations descriptions: [np.str_('stimulus_anchor')]\n",
            "Used Annotations descriptions: [np.str_('stimulus_anchor')]\n",
            "Used Annotations descriptions: [np.str_('stimulus_anchor')]\n",
            "Used Annotations descriptions: [np.str_('stimulus_anchor')]\n",
            "Used Annotations descriptions: [np.str_('stimulus_anchor')]\n",
            "Used Annotations descriptions: [np.str_('stimulus_anchor')]\n",
            "Used Annotations descriptions: [np.str_('stimulus_anchor')]\n",
            "Used Annotations descriptions: [np.str_('stimulus_anchor')]\n",
            "Used Annotations descriptions: [np.str_('stimulus_anchor')]\n",
            "Used Annotations descriptions: [np.str_('stimulus_anchor')]\n",
            "Used Annotations descriptions: [np.str_('stimulus_anchor')]\n",
            "Used Annotations descriptions: [np.str_('stimulus_anchor')]\n",
            "Used Annotations descriptions: [np.str_('stimulus_anchor')]\n",
            "Used Annotations descriptions: [np.str_('stimulus_anchor')]\n",
            "Used Annotations descriptions: [np.str_('stimulus_anchor')]\n",
            "Used Annotations descriptions: [np.str_('stimulus_anchor')]\n",
            "Used Annotations descriptions: [np.str_('stimulus_anchor')]\n",
            "Used Annotations descriptions: [np.str_('stimulus_anchor')]\n",
            "Used Annotations descriptions: [np.str_('stimulus_anchor')]\n",
            "Used Annotations descriptions: [np.str_('stimulus_anchor')]\n",
            "Used Annotations descriptions: [np.str_('stimulus_anchor')]\n",
            "Used Annotations descriptions: [np.str_('stimulus_anchor')]\n",
            "Used Annotations descriptions: [np.str_('stimulus_anchor')]\n",
            "Used Annotations descriptions: [np.str_('stimulus_anchor')]\n",
            "Used Annotations descriptions: [np.str_('stimulus_anchor')]\n",
            "Used Annotations descriptions: [np.str_('stimulus_anchor')]\n",
            "Used Annotations descriptions: [np.str_('stimulus_anchor')]\n"
          ]
        },
        {
          "output_type": "stream",
          "name": "stderr",
          "text": [
            "\r 45%|████▌     | 5/11 [14:48<19:47, 197.97s/it]/usr/local/lib/python3.12/dist-packages/eegdash/dataset/dataset.py:126: UserWarning: \n",
            "\n",
            "[EEGChallengeDataset] EEG 2025 Competition Data Notice:\n",
            "-------------------------------------------------------\n",
            "This object loads the HBN dataset that has been preprocessed for the EEG Challenge:\n",
            "  - Downsampled from 500Hz to 100Hz\n",
            "  - Bandpass filtered (0.5–50 Hz)\n",
            "\n",
            "For full preprocessing details, see:\n",
            "  https://github.com/eeg2025/downsample-datasets\n",
            "\n",
            "IMPORTANT: The data accessed via `EEGChallengeDataset` is NOT identical to what you get from `EEGDashDataset` directly.\n",
            "If you are participating in the competition, always use `EEGChallengeDataset` to ensure consistency with the challenge data.\n",
            "\n",
            "\n",
            "  warn(\n"
          ]
        },
        {
          "output_type": "stream",
          "name": "stdout",
          "text": [
            "Used Annotations descriptions: [np.str_('stimulus_anchor')]\n",
            "Used Annotations descriptions: [np.str_('stimulus_anchor')]\n",
            "Used Annotations descriptions: [np.str_('stimulus_anchor')]\n",
            "Used Annotations descriptions: [np.str_('stimulus_anchor')]\n",
            "Used Annotations descriptions: [np.str_('stimulus_anchor')]\n",
            "Used Annotations descriptions: [np.str_('stimulus_anchor')]\n",
            "Used Annotations descriptions: [np.str_('stimulus_anchor')]\n",
            "Used Annotations descriptions: [np.str_('stimulus_anchor')]\n",
            "Used Annotations descriptions: [np.str_('stimulus_anchor')]\n",
            "Used Annotations descriptions: [np.str_('stimulus_anchor')]\n",
            "Used Annotations descriptions: [np.str_('stimulus_anchor')]\n",
            "Used Annotations descriptions: [np.str_('stimulus_anchor')]\n",
            "Used Annotations descriptions: [np.str_('stimulus_anchor')]\n",
            "Used Annotations descriptions: [np.str_('stimulus_anchor')]\n",
            "Used Annotations descriptions: [np.str_('stimulus_anchor')]\n",
            "Used Annotations descriptions: [np.str_('stimulus_anchor')]\n",
            "Used Annotations descriptions: [np.str_('stimulus_anchor')]\n",
            "Used Annotations descriptions: [np.str_('stimulus_anchor')]\n",
            "Used Annotations descriptions: [np.str_('stimulus_anchor')]\n",
            "Used Annotations descriptions: [np.str_('stimulus_anchor')]\n",
            "Used Annotations descriptions: [np.str_('stimulus_anchor')]\n",
            "Used Annotations descriptions: [np.str_('stimulus_anchor')]\n",
            "Used Annotations descriptions: [np.str_('stimulus_anchor')]\n",
            "Used Annotations descriptions: [np.str_('stimulus_anchor')]\n",
            "Used Annotations descriptions: [np.str_('stimulus_anchor')]\n",
            "Used Annotations descriptions: [np.str_('stimulus_anchor')]\n",
            "Used Annotations descriptions: [np.str_('stimulus_anchor')]\n",
            "Used Annotations descriptions: [np.str_('stimulus_anchor')]\n",
            "Used Annotations descriptions: [np.str_('stimulus_anchor')]\n",
            "Used Annotations descriptions: [np.str_('stimulus_anchor')]\n",
            "Used Annotations descriptions: [np.str_('stimulus_anchor')]\n",
            "Used Annotations descriptions: [np.str_('stimulus_anchor')]\n",
            "Used Annotations descriptions: [np.str_('stimulus_anchor')]\n",
            "Used Annotations descriptions: [np.str_('stimulus_anchor')]\n",
            "Used Annotations descriptions: [np.str_('stimulus_anchor')]\n",
            "Used Annotations descriptions: [np.str_('stimulus_anchor')]\n",
            "Used Annotations descriptions: [np.str_('stimulus_anchor')]\n",
            "Used Annotations descriptions: [np.str_('stimulus_anchor')]\n",
            "Used Annotations descriptions: [np.str_('stimulus_anchor')]\n",
            "Used Annotations descriptions: [np.str_('stimulus_anchor')]\n",
            "Used Annotations descriptions: [np.str_('stimulus_anchor')]\n",
            "Used Annotations descriptions: [np.str_('stimulus_anchor')]\n",
            "Used Annotations descriptions: [np.str_('stimulus_anchor')]\n",
            "Used Annotations descriptions: [np.str_('stimulus_anchor')]\n",
            "Used Annotations descriptions: [np.str_('stimulus_anchor')]\n",
            "Used Annotations descriptions: [np.str_('stimulus_anchor')]\n",
            "Used Annotations descriptions: [np.str_('stimulus_anchor')]\n",
            "Used Annotations descriptions: [np.str_('stimulus_anchor')]\n",
            "Used Annotations descriptions: [np.str_('stimulus_anchor')]\n",
            "Used Annotations descriptions: [np.str_('stimulus_anchor')]\n",
            "Used Annotations descriptions: [np.str_('stimulus_anchor')]\n",
            "Used Annotations descriptions: [np.str_('stimulus_anchor')]\n",
            "Used Annotations descriptions: [np.str_('stimulus_anchor')]\n",
            "Used Annotations descriptions: [np.str_('stimulus_anchor')]\n",
            "Used Annotations descriptions: [np.str_('stimulus_anchor')]\n",
            "Used Annotations descriptions: [np.str_('stimulus_anchor')]\n",
            "Used Annotations descriptions: [np.str_('stimulus_anchor')]\n"
          ]
        },
        {
          "output_type": "stream",
          "name": "stderr",
          "text": [
            "\r 55%|█████▍    | 6/11 [17:59<16:18, 195.70s/it]/usr/local/lib/python3.12/dist-packages/eegdash/dataset/dataset.py:126: UserWarning: \n",
            "\n",
            "[EEGChallengeDataset] EEG 2025 Competition Data Notice:\n",
            "-------------------------------------------------------\n",
            "This object loads the HBN dataset that has been preprocessed for the EEG Challenge:\n",
            "  - Downsampled from 500Hz to 100Hz\n",
            "  - Bandpass filtered (0.5–50 Hz)\n",
            "\n",
            "For full preprocessing details, see:\n",
            "  https://github.com/eeg2025/downsample-datasets\n",
            "\n",
            "IMPORTANT: The data accessed via `EEGChallengeDataset` is NOT identical to what you get from `EEGDashDataset` directly.\n",
            "If you are participating in the competition, always use `EEGChallengeDataset` to ensure consistency with the challenge data.\n",
            "\n",
            "\n",
            "  warn(\n"
          ]
        },
        {
          "output_type": "stream",
          "name": "stdout",
          "text": [
            "Used Annotations descriptions: [np.str_('stimulus_anchor')]\n",
            "Used Annotations descriptions: [np.str_('stimulus_anchor')]\n",
            "Used Annotations descriptions: [np.str_('stimulus_anchor')]\n",
            "Used Annotations descriptions: [np.str_('stimulus_anchor')]\n",
            "Used Annotations descriptions: [np.str_('stimulus_anchor')]\n",
            "Used Annotations descriptions: [np.str_('stimulus_anchor')]\n",
            "Used Annotations descriptions: [np.str_('stimulus_anchor')]\n",
            "Used Annotations descriptions: [np.str_('stimulus_anchor')]\n",
            "Used Annotations descriptions: [np.str_('stimulus_anchor')]\n",
            "Used Annotations descriptions: [np.str_('stimulus_anchor')]\n",
            "Used Annotations descriptions: [np.str_('stimulus_anchor')]\n",
            "Used Annotations descriptions: [np.str_('stimulus_anchor')]\n",
            "Used Annotations descriptions: [np.str_('stimulus_anchor')]\n",
            "Used Annotations descriptions: [np.str_('stimulus_anchor')]\n",
            "Used Annotations descriptions: [np.str_('stimulus_anchor')]\n",
            "Used Annotations descriptions: [np.str_('stimulus_anchor')]\n",
            "Used Annotations descriptions: [np.str_('stimulus_anchor')]\n",
            "Used Annotations descriptions: [np.str_('stimulus_anchor')]\n",
            "Used Annotations descriptions: [np.str_('stimulus_anchor')]\n",
            "Used Annotations descriptions: [np.str_('stimulus_anchor')]\n",
            "Used Annotations descriptions: [np.str_('stimulus_anchor')]\n",
            "Used Annotations descriptions: [np.str_('stimulus_anchor')]\n",
            "Used Annotations descriptions: [np.str_('stimulus_anchor')]\n",
            "Used Annotations descriptions: [np.str_('stimulus_anchor')]\n",
            "Used Annotations descriptions: [np.str_('stimulus_anchor')]\n",
            "Used Annotations descriptions: [np.str_('stimulus_anchor')]\n",
            "Used Annotations descriptions: [np.str_('stimulus_anchor')]\n",
            "Used Annotations descriptions: [np.str_('stimulus_anchor')]\n",
            "Used Annotations descriptions: [np.str_('stimulus_anchor')]\n",
            "Used Annotations descriptions: [np.str_('stimulus_anchor')]\n",
            "Used Annotations descriptions: [np.str_('stimulus_anchor')]\n",
            "Used Annotations descriptions: [np.str_('stimulus_anchor')]\n",
            "Used Annotations descriptions: [np.str_('stimulus_anchor')]\n",
            "Used Annotations descriptions: [np.str_('stimulus_anchor')]\n",
            "Used Annotations descriptions: [np.str_('stimulus_anchor')]\n",
            "Used Annotations descriptions: [np.str_('stimulus_anchor')]\n",
            "Used Annotations descriptions: [np.str_('stimulus_anchor')]\n",
            "Used Annotations descriptions: [np.str_('stimulus_anchor')]\n",
            "Used Annotations descriptions: [np.str_('stimulus_anchor')]\n",
            "Used Annotations descriptions: [np.str_('stimulus_anchor')]\n",
            "Used Annotations descriptions: [np.str_('stimulus_anchor')]\n",
            "Used Annotations descriptions: [np.str_('stimulus_anchor')]\n",
            "Used Annotations descriptions: [np.str_('stimulus_anchor')]\n",
            "Used Annotations descriptions: [np.str_('stimulus_anchor')]\n",
            "Used Annotations descriptions: [np.str_('stimulus_anchor')]\n",
            "Used Annotations descriptions: [np.str_('stimulus_anchor')]\n",
            "Used Annotations descriptions: [np.str_('stimulus_anchor')]\n",
            "Used Annotations descriptions: [np.str_('stimulus_anchor')]\n",
            "Used Annotations descriptions: [np.str_('stimulus_anchor')]\n",
            "Used Annotations descriptions: [np.str_('stimulus_anchor')]\n",
            "Used Annotations descriptions: [np.str_('stimulus_anchor')]\n",
            "Used Annotations descriptions: [np.str_('stimulus_anchor')]\n",
            "Used Annotations descriptions: [np.str_('stimulus_anchor')]\n",
            "Used Annotations descriptions: [np.str_('stimulus_anchor')]\n",
            "Used Annotations descriptions: [np.str_('stimulus_anchor')]\n",
            "Used Annotations descriptions: [np.str_('stimulus_anchor')]\n",
            "Used Annotations descriptions: [np.str_('stimulus_anchor')]\n",
            "Used Annotations descriptions: [np.str_('stimulus_anchor')]\n",
            "Used Annotations descriptions: [np.str_('stimulus_anchor')]\n",
            "Used Annotations descriptions: [np.str_('stimulus_anchor')]\n"
          ]
        },
        {
          "output_type": "stream",
          "name": "stderr",
          "text": [
            "\r 64%|██████▎   | 7/11 [21:24<13:14, 198.72s/it]/usr/local/lib/python3.12/dist-packages/eegdash/dataset/dataset.py:126: UserWarning: \n",
            "\n",
            "[EEGChallengeDataset] EEG 2025 Competition Data Notice:\n",
            "-------------------------------------------------------\n",
            "This object loads the HBN dataset that has been preprocessed for the EEG Challenge:\n",
            "  - Downsampled from 500Hz to 100Hz\n",
            "  - Bandpass filtered (0.5–50 Hz)\n",
            "\n",
            "For full preprocessing details, see:\n",
            "  https://github.com/eeg2025/downsample-datasets\n",
            "\n",
            "IMPORTANT: The data accessed via `EEGChallengeDataset` is NOT identical to what you get from `EEGDashDataset` directly.\n",
            "If you are participating in the competition, always use `EEGChallengeDataset` to ensure consistency with the challenge data.\n",
            "\n",
            "\n",
            "  warn(\n"
          ]
        },
        {
          "output_type": "stream",
          "name": "stdout",
          "text": [
            "Used Annotations descriptions: [np.str_('stimulus_anchor')]\n",
            "Used Annotations descriptions: [np.str_('stimulus_anchor')]\n",
            "Used Annotations descriptions: [np.str_('stimulus_anchor')]\n",
            "Used Annotations descriptions: [np.str_('stimulus_anchor')]\n",
            "Used Annotations descriptions: [np.str_('stimulus_anchor')]\n",
            "Used Annotations descriptions: [np.str_('stimulus_anchor')]\n",
            "Used Annotations descriptions: [np.str_('stimulus_anchor')]\n",
            "Used Annotations descriptions: [np.str_('stimulus_anchor')]\n",
            "Used Annotations descriptions: [np.str_('stimulus_anchor')]\n",
            "Used Annotations descriptions: [np.str_('stimulus_anchor')]\n",
            "Used Annotations descriptions: [np.str_('stimulus_anchor')]\n",
            "Used Annotations descriptions: [np.str_('stimulus_anchor')]\n",
            "Used Annotations descriptions: [np.str_('stimulus_anchor')]\n",
            "Used Annotations descriptions: [np.str_('stimulus_anchor')]\n",
            "Used Annotations descriptions: [np.str_('stimulus_anchor')]\n",
            "Used Annotations descriptions: [np.str_('stimulus_anchor')]\n",
            "Used Annotations descriptions: [np.str_('stimulus_anchor')]\n",
            "Used Annotations descriptions: [np.str_('stimulus_anchor')]\n",
            "Used Annotations descriptions: [np.str_('stimulus_anchor')]\n",
            "Used Annotations descriptions: [np.str_('stimulus_anchor')]\n",
            "Used Annotations descriptions: [np.str_('stimulus_anchor')]\n",
            "Used Annotations descriptions: [np.str_('stimulus_anchor')]\n",
            "Used Annotations descriptions: [np.str_('stimulus_anchor')]\n",
            "Used Annotations descriptions: [np.str_('stimulus_anchor')]\n",
            "Used Annotations descriptions: [np.str_('stimulus_anchor')]\n",
            "Used Annotations descriptions: [np.str_('stimulus_anchor')]\n",
            "Used Annotations descriptions: [np.str_('stimulus_anchor')]\n",
            "Used Annotations descriptions: [np.str_('stimulus_anchor')]\n",
            "Used Annotations descriptions: [np.str_('stimulus_anchor')]\n",
            "Used Annotations descriptions: [np.str_('stimulus_anchor')]\n",
            "Used Annotations descriptions: [np.str_('stimulus_anchor')]\n",
            "Used Annotations descriptions: [np.str_('stimulus_anchor')]\n",
            "Used Annotations descriptions: [np.str_('stimulus_anchor')]\n",
            "Used Annotations descriptions: [np.str_('stimulus_anchor')]\n",
            "Used Annotations descriptions: [np.str_('stimulus_anchor')]\n",
            "Used Annotations descriptions: [np.str_('stimulus_anchor')]\n",
            "Used Annotations descriptions: [np.str_('stimulus_anchor')]\n",
            "Used Annotations descriptions: [np.str_('stimulus_anchor')]\n",
            "Used Annotations descriptions: [np.str_('stimulus_anchor')]\n",
            "Used Annotations descriptions: [np.str_('stimulus_anchor')]\n",
            "Used Annotations descriptions: [np.str_('stimulus_anchor')]\n",
            "Used Annotations descriptions: [np.str_('stimulus_anchor')]\n",
            "Used Annotations descriptions: [np.str_('stimulus_anchor')]\n",
            "Used Annotations descriptions: [np.str_('stimulus_anchor')]\n",
            "Used Annotations descriptions: [np.str_('stimulus_anchor')]\n",
            "Used Annotations descriptions: [np.str_('stimulus_anchor')]\n",
            "Used Annotations descriptions: [np.str_('stimulus_anchor')]\n",
            "Used Annotations descriptions: [np.str_('stimulus_anchor')]\n",
            "Used Annotations descriptions: [np.str_('stimulus_anchor')]\n",
            "Used Annotations descriptions: [np.str_('stimulus_anchor')]\n",
            "Used Annotations descriptions: [np.str_('stimulus_anchor')]\n",
            "Used Annotations descriptions: [np.str_('stimulus_anchor')]\n",
            "Used Annotations descriptions: [np.str_('stimulus_anchor')]\n",
            "Used Annotations descriptions: [np.str_('stimulus_anchor')]\n",
            "Used Annotations descriptions: [np.str_('stimulus_anchor')]\n",
            "Used Annotations descriptions: [np.str_('stimulus_anchor')]\n",
            "Used Annotations descriptions: [np.str_('stimulus_anchor')]\n",
            "Used Annotations descriptions: [np.str_('stimulus_anchor')]\n",
            "Used Annotations descriptions: [np.str_('stimulus_anchor')]\n",
            "Used Annotations descriptions: [np.str_('stimulus_anchor')]\n"
          ]
        },
        {
          "output_type": "stream",
          "name": "stderr",
          "text": [
            "\r 73%|███████▎  | 8/11 [24:52<10:05, 201.86s/it]/usr/local/lib/python3.12/dist-packages/eegdash/dataset/dataset.py:126: UserWarning: \n",
            "\n",
            "[EEGChallengeDataset] EEG 2025 Competition Data Notice:\n",
            "-------------------------------------------------------\n",
            "This object loads the HBN dataset that has been preprocessed for the EEG Challenge:\n",
            "  - Downsampled from 500Hz to 100Hz\n",
            "  - Bandpass filtered (0.5–50 Hz)\n",
            "\n",
            "For full preprocessing details, see:\n",
            "  https://github.com/eeg2025/downsample-datasets\n",
            "\n",
            "IMPORTANT: The data accessed via `EEGChallengeDataset` is NOT identical to what you get from `EEGDashDataset` directly.\n",
            "If you are participating in the competition, always use `EEGChallengeDataset` to ensure consistency with the challenge data.\n",
            "\n",
            "\n",
            "  warn(\n"
          ]
        },
        {
          "output_type": "stream",
          "name": "stdout",
          "text": [
            "Used Annotations descriptions: [np.str_('stimulus_anchor')]\n",
            "Used Annotations descriptions: [np.str_('stimulus_anchor')]\n",
            "Used Annotations descriptions: [np.str_('stimulus_anchor')]\n",
            "Used Annotations descriptions: [np.str_('stimulus_anchor')]\n",
            "Used Annotations descriptions: [np.str_('stimulus_anchor')]\n",
            "Used Annotations descriptions: [np.str_('stimulus_anchor')]\n",
            "Used Annotations descriptions: [np.str_('stimulus_anchor')]\n",
            "Used Annotations descriptions: [np.str_('stimulus_anchor')]\n",
            "Used Annotations descriptions: [np.str_('stimulus_anchor')]\n",
            "Used Annotations descriptions: [np.str_('stimulus_anchor')]\n",
            "Used Annotations descriptions: [np.str_('stimulus_anchor')]\n",
            "Used Annotations descriptions: [np.str_('stimulus_anchor')]\n",
            "Used Annotations descriptions: [np.str_('stimulus_anchor')]\n",
            "Used Annotations descriptions: [np.str_('stimulus_anchor')]\n",
            "Used Annotations descriptions: [np.str_('stimulus_anchor')]\n",
            "Used Annotations descriptions: [np.str_('stimulus_anchor')]\n",
            "Used Annotations descriptions: [np.str_('stimulus_anchor')]\n",
            "Used Annotations descriptions: [np.str_('stimulus_anchor')]\n",
            "Used Annotations descriptions: [np.str_('stimulus_anchor')]\n",
            "Used Annotations descriptions: [np.str_('stimulus_anchor')]\n",
            "Used Annotations descriptions: [np.str_('stimulus_anchor')]\n",
            "Used Annotations descriptions: [np.str_('stimulus_anchor')]\n",
            "Used Annotations descriptions: [np.str_('stimulus_anchor')]\n",
            "Used Annotations descriptions: [np.str_('stimulus_anchor')]\n",
            "Used Annotations descriptions: [np.str_('stimulus_anchor')]\n",
            "Used Annotations descriptions: [np.str_('stimulus_anchor')]\n",
            "Used Annotations descriptions: [np.str_('stimulus_anchor')]\n",
            "Used Annotations descriptions: [np.str_('stimulus_anchor')]\n",
            "Used Annotations descriptions: [np.str_('stimulus_anchor')]\n",
            "Used Annotations descriptions: [np.str_('stimulus_anchor')]\n",
            "Used Annotations descriptions: [np.str_('stimulus_anchor')]\n",
            "Used Annotations descriptions: [np.str_('stimulus_anchor')]\n",
            "Used Annotations descriptions: [np.str_('stimulus_anchor')]\n",
            "Used Annotations descriptions: [np.str_('stimulus_anchor')]\n",
            "Used Annotations descriptions: [np.str_('stimulus_anchor')]\n",
            "Used Annotations descriptions: [np.str_('stimulus_anchor')]\n",
            "Used Annotations descriptions: [np.str_('stimulus_anchor')]\n",
            "Used Annotations descriptions: [np.str_('stimulus_anchor')]\n",
            "Used Annotations descriptions: [np.str_('stimulus_anchor')]\n",
            "Used Annotations descriptions: [np.str_('stimulus_anchor')]\n",
            "Used Annotations descriptions: [np.str_('stimulus_anchor')]\n",
            "Used Annotations descriptions: [np.str_('stimulus_anchor')]\n",
            "Used Annotations descriptions: [np.str_('stimulus_anchor')]\n",
            "Used Annotations descriptions: [np.str_('stimulus_anchor')]\n",
            "Used Annotations descriptions: [np.str_('stimulus_anchor')]\n",
            "Used Annotations descriptions: [np.str_('stimulus_anchor')]\n",
            "Used Annotations descriptions: [np.str_('stimulus_anchor')]\n",
            "Used Annotations descriptions: [np.str_('stimulus_anchor')]\n",
            "Used Annotations descriptions: [np.str_('stimulus_anchor')]\n",
            "Used Annotations descriptions: [np.str_('stimulus_anchor')]\n",
            "Used Annotations descriptions: [np.str_('stimulus_anchor')]\n",
            "Used Annotations descriptions: [np.str_('stimulus_anchor')]\n",
            "Used Annotations descriptions: [np.str_('stimulus_anchor')]\n",
            "Used Annotations descriptions: [np.str_('stimulus_anchor')]\n",
            "Used Annotations descriptions: [np.str_('stimulus_anchor')]\n",
            "Used Annotations descriptions: [np.str_('stimulus_anchor')]\n",
            "Used Annotations descriptions: [np.str_('stimulus_anchor')]\n",
            "Used Annotations descriptions: [np.str_('stimulus_anchor')]\n",
            "Used Annotations descriptions: [np.str_('stimulus_anchor')]\n",
            "Used Annotations descriptions: [np.str_('stimulus_anchor')]\n"
          ]
        },
        {
          "output_type": "stream",
          "name": "stderr",
          "text": [
            "\r 82%|████████▏ | 9/11 [28:21<06:48, 204.00s/it]/usr/local/lib/python3.12/dist-packages/eegdash/dataset/dataset.py:126: UserWarning: \n",
            "\n",
            "[EEGChallengeDataset] EEG 2025 Competition Data Notice:\n",
            "-------------------------------------------------------\n",
            "This object loads the HBN dataset that has been preprocessed for the EEG Challenge:\n",
            "  - Downsampled from 500Hz to 100Hz\n",
            "  - Bandpass filtered (0.5–50 Hz)\n",
            "\n",
            "For full preprocessing details, see:\n",
            "  https://github.com/eeg2025/downsample-datasets\n",
            "\n",
            "IMPORTANT: The data accessed via `EEGChallengeDataset` is NOT identical to what you get from `EEGDashDataset` directly.\n",
            "If you are participating in the competition, always use `EEGChallengeDataset` to ensure consistency with the challenge data.\n",
            "\n",
            "\n",
            "  warn(\n",
            "WARNING:root:Recording /content/data/ds005515-bdf-mini/sub-NDARKM061NHZ/eeg/sub-NDARKM061NHZ_task-contrastChangeDetection_run-2_eeg.bdf does not contain event 'stimulus_anchor'\n"
          ]
        },
        {
          "output_type": "stream",
          "name": "stdout",
          "text": [
            "Used Annotations descriptions: [np.str_('stimulus_anchor')]\n",
            "Used Annotations descriptions: [np.str_('stimulus_anchor')]\n",
            "Used Annotations descriptions: [np.str_('stimulus_anchor')]\n",
            "Used Annotations descriptions: [np.str_('stimulus_anchor')]\n",
            "Used Annotations descriptions: [np.str_('stimulus_anchor')]\n",
            "Used Annotations descriptions: [np.str_('stimulus_anchor')]\n",
            "Used Annotations descriptions: [np.str_('stimulus_anchor')]\n",
            "Used Annotations descriptions: [np.str_('stimulus_anchor')]\n",
            "Used Annotations descriptions: [np.str_('stimulus_anchor')]\n",
            "Used Annotations descriptions: [np.str_('stimulus_anchor')]\n",
            "Used Annotations descriptions: [np.str_('stimulus_anchor')]\n",
            "Used Annotations descriptions: [np.str_('stimulus_anchor')]\n",
            "Used Annotations descriptions: [np.str_('stimulus_anchor')]\n",
            "Used Annotations descriptions: [np.str_('stimulus_anchor')]\n",
            "Used Annotations descriptions: [np.str_('stimulus_anchor')]\n",
            "Used Annotations descriptions: [np.str_('stimulus_anchor')]\n",
            "Used Annotations descriptions: [np.str_('stimulus_anchor')]\n",
            "Used Annotations descriptions: [np.str_('stimulus_anchor')]\n",
            "Used Annotations descriptions: [np.str_('stimulus_anchor')]\n",
            "Used Annotations descriptions: [np.str_('stimulus_anchor')]\n",
            "Used Annotations descriptions: [np.str_('stimulus_anchor')]\n",
            "Used Annotations descriptions: [np.str_('stimulus_anchor')]\n",
            "Used Annotations descriptions: [np.str_('stimulus_anchor')]\n",
            "Used Annotations descriptions: [np.str_('stimulus_anchor')]\n",
            "Used Annotations descriptions: [np.str_('stimulus_anchor')]\n",
            "Used Annotations descriptions: [np.str_('stimulus_anchor')]\n",
            "Used Annotations descriptions: [np.str_('stimulus_anchor')]\n",
            "Used Annotations descriptions: [np.str_('stimulus_anchor')]\n",
            "Used Annotations descriptions: [np.str_('stimulus_anchor')]\n",
            "Used Annotations descriptions: [np.str_('stimulus_anchor')]\n",
            "Used Annotations descriptions: [np.str_('stimulus_anchor')]\n",
            "Used Annotations descriptions: [np.str_('stimulus_anchor')]\n",
            "Used Annotations descriptions: [np.str_('stimulus_anchor')]\n",
            "Used Annotations descriptions: [np.str_('stimulus_anchor')]\n",
            "Used Annotations descriptions: [np.str_('stimulus_anchor')]\n",
            "Used Annotations descriptions: [np.str_('stimulus_anchor')]\n",
            "Used Annotations descriptions: [np.str_('stimulus_anchor')]\n",
            "Used Annotations descriptions: [np.str_('stimulus_anchor')]\n",
            "Used Annotations descriptions: [np.str_('stimulus_anchor')]\n",
            "Used Annotations descriptions: [np.str_('stimulus_anchor')]\n",
            "Used Annotations descriptions: [np.str_('stimulus_anchor')]\n",
            "Used Annotations descriptions: [np.str_('stimulus_anchor')]\n",
            "Used Annotations descriptions: [np.str_('stimulus_anchor')]\n",
            "Used Annotations descriptions: [np.str_('stimulus_anchor')]\n",
            "Used Annotations descriptions: [np.str_('stimulus_anchor')]\n",
            "Used Annotations descriptions: [np.str_('stimulus_anchor')]\n",
            "Used Annotations descriptions: [np.str_('stimulus_anchor')]\n",
            "Used Annotations descriptions: [np.str_('stimulus_anchor')]\n",
            "Used Annotations descriptions: [np.str_('stimulus_anchor')]\n",
            "Used Annotations descriptions: [np.str_('stimulus_anchor')]\n",
            "Used Annotations descriptions: [np.str_('stimulus_anchor')]\n",
            "Used Annotations descriptions: [np.str_('stimulus_anchor')]\n",
            "Used Annotations descriptions: [np.str_('stimulus_anchor')]\n",
            "Used Annotations descriptions: [np.str_('stimulus_anchor')]\n",
            "Used Annotations descriptions: [np.str_('stimulus_anchor')]\n",
            "Used Annotations descriptions: [np.str_('stimulus_anchor')]\n",
            "Used Annotations descriptions: [np.str_('stimulus_anchor')]\n",
            "Used Annotations descriptions: [np.str_('stimulus_anchor')]\n",
            "Used Annotations descriptions: [np.str_('stimulus_anchor')]\n"
          ]
        },
        {
          "output_type": "stream",
          "name": "stderr",
          "text": [
            "\r 91%|█████████ | 10/11 [31:40<03:22, 202.42s/it]/usr/local/lib/python3.12/dist-packages/eegdash/dataset/dataset.py:126: UserWarning: \n",
            "\n",
            "[EEGChallengeDataset] EEG 2025 Competition Data Notice:\n",
            "-------------------------------------------------------\n",
            "This object loads the HBN dataset that has been preprocessed for the EEG Challenge:\n",
            "  - Downsampled from 500Hz to 100Hz\n",
            "  - Bandpass filtered (0.5–50 Hz)\n",
            "\n",
            "For full preprocessing details, see:\n",
            "  https://github.com/eeg2025/downsample-datasets\n",
            "\n",
            "IMPORTANT: The data accessed via `EEGChallengeDataset` is NOT identical to what you get from `EEGDashDataset` directly.\n",
            "If you are participating in the competition, always use `EEGChallengeDataset` to ensure consistency with the challenge data.\n",
            "\n",
            "\n",
            "  warn(\n"
          ]
        },
        {
          "output_type": "stream",
          "name": "stdout",
          "text": [
            "Used Annotations descriptions: [np.str_('stimulus_anchor')]\n",
            "Used Annotations descriptions: [np.str_('stimulus_anchor')]\n",
            "Used Annotations descriptions: [np.str_('stimulus_anchor')]\n",
            "Used Annotations descriptions: [np.str_('stimulus_anchor')]\n",
            "Used Annotations descriptions: [np.str_('stimulus_anchor')]\n",
            "Used Annotations descriptions: [np.str_('stimulus_anchor')]\n",
            "Used Annotations descriptions: [np.str_('stimulus_anchor')]\n",
            "Used Annotations descriptions: [np.str_('stimulus_anchor')]\n",
            "Used Annotations descriptions: [np.str_('stimulus_anchor')]\n",
            "Used Annotations descriptions: [np.str_('stimulus_anchor')]\n",
            "Used Annotations descriptions: [np.str_('stimulus_anchor')]\n",
            "Used Annotations descriptions: [np.str_('stimulus_anchor')]\n",
            "Used Annotations descriptions: [np.str_('stimulus_anchor')]\n",
            "Used Annotations descriptions: [np.str_('stimulus_anchor')]\n",
            "Used Annotations descriptions: [np.str_('stimulus_anchor')]\n",
            "Used Annotations descriptions: [np.str_('stimulus_anchor')]\n",
            "Used Annotations descriptions: [np.str_('stimulus_anchor')]\n",
            "Used Annotations descriptions: [np.str_('stimulus_anchor')]\n",
            "Used Annotations descriptions: [np.str_('stimulus_anchor')]\n",
            "Used Annotations descriptions: [np.str_('stimulus_anchor')]\n",
            "Used Annotations descriptions: [np.str_('stimulus_anchor')]\n",
            "Used Annotations descriptions: [np.str_('stimulus_anchor')]\n",
            "Used Annotations descriptions: [np.str_('stimulus_anchor')]\n",
            "Used Annotations descriptions: [np.str_('stimulus_anchor')]\n",
            "Used Annotations descriptions: [np.str_('stimulus_anchor')]\n",
            "Used Annotations descriptions: [np.str_('stimulus_anchor')]\n",
            "Used Annotations descriptions: [np.str_('stimulus_anchor')]\n",
            "Used Annotations descriptions: [np.str_('stimulus_anchor')]\n",
            "Used Annotations descriptions: [np.str_('stimulus_anchor')]\n",
            "Used Annotations descriptions: [np.str_('stimulus_anchor')]\n",
            "Used Annotations descriptions: [np.str_('stimulus_anchor')]\n",
            "Used Annotations descriptions: [np.str_('stimulus_anchor')]\n",
            "Used Annotations descriptions: [np.str_('stimulus_anchor')]\n",
            "Used Annotations descriptions: [np.str_('stimulus_anchor')]\n",
            "Used Annotations descriptions: [np.str_('stimulus_anchor')]\n",
            "Used Annotations descriptions: [np.str_('stimulus_anchor')]\n",
            "Used Annotations descriptions: [np.str_('stimulus_anchor')]\n",
            "Used Annotations descriptions: [np.str_('stimulus_anchor')]\n",
            "Used Annotations descriptions: [np.str_('stimulus_anchor')]\n",
            "Used Annotations descriptions: [np.str_('stimulus_anchor')]\n",
            "Used Annotations descriptions: [np.str_('stimulus_anchor')]\n",
            "Used Annotations descriptions: [np.str_('stimulus_anchor')]\n",
            "Used Annotations descriptions: [np.str_('stimulus_anchor')]\n",
            "Used Annotations descriptions: [np.str_('stimulus_anchor')]\n",
            "Used Annotations descriptions: [np.str_('stimulus_anchor')]\n",
            "Used Annotations descriptions: [np.str_('stimulus_anchor')]\n",
            "Used Annotations descriptions: [np.str_('stimulus_anchor')]\n",
            "Used Annotations descriptions: [np.str_('stimulus_anchor')]\n",
            "Used Annotations descriptions: [np.str_('stimulus_anchor')]\n",
            "Used Annotations descriptions: [np.str_('stimulus_anchor')]\n",
            "Used Annotations descriptions: [np.str_('stimulus_anchor')]\n",
            "Used Annotations descriptions: [np.str_('stimulus_anchor')]\n",
            "Used Annotations descriptions: [np.str_('stimulus_anchor')]\n",
            "Used Annotations descriptions: [np.str_('stimulus_anchor')]\n",
            "Used Annotations descriptions: [np.str_('stimulus_anchor')]\n",
            "Used Annotations descriptions: [np.str_('stimulus_anchor')]\n",
            "Used Annotations descriptions: [np.str_('stimulus_anchor')]\n",
            "Used Annotations descriptions: [np.str_('stimulus_anchor')]\n",
            "Used Annotations descriptions: [np.str_('stimulus_anchor')]\n",
            "Used Annotations descriptions: [np.str_('stimulus_anchor')]\n"
          ]
        },
        {
          "output_type": "stream",
          "name": "stderr",
          "text": [
            "100%|██████████| 11/11 [34:50<00:00, 190.07s/it]\n"
          ]
        }
      ]
    },
    {
      "cell_type": "code",
      "source": [
        "train_set = BaseConcatDataset(train_set)\n",
        "valid_set = BaseConcatDataset(valid_set)\n",
        "\n",
        "print(f'Train set: {len(train_set)}')\n",
        "print(f'Valid set: {len(valid_set)}')"
      ],
      "metadata": {
        "id": "1LLxt7B5wlHL",
        "colab": {
          "base_uri": "https://localhost:8080/"
        },
        "outputId": "5479bcad-0a2c-40a6-a1ab-bf6e389fe1e6"
      },
      "execution_count": 13,
      "outputs": [
        {
          "output_type": "stream",
          "name": "stdout",
          "text": [
            "Train set: 12805\n",
            "Valid set: 1214\n"
          ]
        }
      ]
    },
    {
      "cell_type": "markdown",
      "source": [
        "#Build model"
      ],
      "metadata": {
        "id": "YR2u7CQ_W8Yk"
      }
    },
    {
      "cell_type": "code",
      "source": [
        "batch_size = 128\n",
        "num_workers = 1\n",
        "\n",
        "train_loader = DataLoader(train_set, batch_size=batch_size, shuffle=True, num_workers=num_workers)\n",
        "valid_loader = DataLoader(valid_set, batch_size=batch_size, shuffle=False, num_workers=num_workers)"
      ],
      "metadata": {
        "id": "Dx8xegvoW7wI"
      },
      "execution_count": 21,
      "outputs": []
    },
    {
      "cell_type": "code",
      "source": [
        "from braindecode.models.util import models_dict\n",
        "\n",
        "names = sorted(models_dict)\n",
        "w = max(len(n) for n in names)\n",
        "\n",
        "for i in range(0, len(names), 3):\n",
        "    row = names[i:i+3]\n",
        "    print(\"  \".join(f\"{n:<{w}}\" for n in row))"
      ],
      "metadata": {
        "colab": {
          "base_uri": "https://localhost:8080/"
        },
        "id": "g-0PtzZzXPLg",
        "outputId": "002260d2-9789-4a4c-c25f-d7bc42728086"
      },
      "execution_count": 22,
      "outputs": [
        {
          "output_type": "stream",
          "name": "stdout",
          "text": [
            "ATCNet                  AttentionBaseNet        AttnSleep             \n",
            "BDTCN                   BIOT                    CTNet                 \n",
            "ContraWR                Deep4Net                DeepSleepNet          \n",
            "EEGConformer            EEGITNet                EEGInceptionERP       \n",
            "EEGInceptionMI          EEGMiner                EEGNeX                \n",
            "EEGNet                  EEGSimpleConv           EEGTCNet              \n",
            "FBCNet                  FBLightConvNet          FBMSNet               \n",
            "IFNet                   Labram                  MSVTNet               \n",
            "SCCNet                  SPARCNet                ShallowFBCSPNet       \n",
            "SignalJEPA              SignalJEPA_Contextual   SignalJEPA_PostLocal  \n",
            "SignalJEPA_PreLocal     SincShallowNet          SleepStagerBlanco2020 \n",
            "SleepStagerChambon2018  SyncNet                 TIDNet                \n",
            "TSception               USleep                \n"
          ]
        }
      ]
    },
    {
      "cell_type": "code",
      "source": [
        "model = EEGNeX(n_chans=129,\n",
        "               n_outputs=1,\n",
        "               n_times=200,\n",
        "               sfreq=100)"
      ],
      "metadata": {
        "id": "9DrSK37pXffi"
      },
      "execution_count": 24,
      "outputs": []
    },
    {
      "cell_type": "markdown",
      "source": [
        "#Model training"
      ],
      "metadata": {
        "id": "hVv6f86CTwCk"
      }
    },
    {
      "cell_type": "code",
      "source": [
        "lr = 1e-3\n",
        "weight_decay = 1e-5\n",
        "n_epochs = 100\n",
        "early_stopping_patience = 50"
      ],
      "metadata": {
        "id": "X0LWF6rSTzx1"
      },
      "execution_count": 25,
      "outputs": []
    },
    {
      "cell_type": "code",
      "source": [
        "def train_one_epoch(\n",
        "    dataloader: DataLoader,\n",
        "    model: Module,\n",
        "    loss_fn,\n",
        "    optimizer,\n",
        "    scheduler: Optional[LRScheduler],\n",
        "    epoch: int,\n",
        "    device,\n",
        "    print_batch_stats: bool = True,):\n",
        "  model.train()\n",
        "\n",
        "  total_loss = 0.0\n",
        "  sum_sq_err = 0.0\n",
        "  n_samples = 0\n",
        "\n",
        "  progress_bar = tqdm(\n",
        "      enumerate(dataloader),\n",
        "      total=len(dataloader),\n",
        "      disable=not print_batch_stats)\n",
        "  for batch_idx, batch in progress_bar:\n",
        "    X, y = batch[0], batch[1]\n",
        "    X, y = X.to(device).float(), y.to(device).float()\n",
        "\n",
        "    optimizer.zero_grad(set_to_none=True)\n",
        "    preds = model(X)\n",
        "    loss = loss_fn(preds, y)\n",
        "    loss.backward()\n",
        "    optimizer.step()\n",
        "\n",
        "    total_loss += loss.item()\n",
        "\n",
        "    preds_flat = preds.detach().view(-1)\n",
        "    y_flat = y.detach().view(-1)\n",
        "    sum_sq_err += torch.sum((preds_flat - y_flat)**2).item()\n",
        "    n_samples += y_flat.numel()\n",
        "\n",
        "    if print_batch_stats:\n",
        "      running_rmse = (sum_sq_err / max(n_samples, 1)) ** 0.5\n",
        "      progress_bar.set_description(\n",
        "          f\"Epoch {epoch}, Batch {batch_idx + 1}/{len(dataloader)},\"\n",
        "          f\"Loss: {loss.item():.6f}, RMSE: {running_rmse:.6f}\"\n",
        "      )\n",
        "  if scheduler is not None:\n",
        "    scheduler.step()\n",
        "\n",
        "  avg_loss = total_loss/len(dataloader)\n",
        "  rmse = (sum_sq_err/max(n_samples, 1))** 0.5\n",
        "  return avg_loss, rmse"
      ],
      "metadata": {
        "id": "_gg9UwRKUNfH"
      },
      "execution_count": 34,
      "outputs": []
    },
    {
      "cell_type": "code",
      "source": [
        "with torch.inference_mode():\n",
        "  def valid_model(\n",
        "      dataloader: DataLoader,\n",
        "      model: Module,\n",
        "      loss_fn,\n",
        "      device,\n",
        "      print_batch_stats: bool = True):\n",
        "\n",
        "    model.eval()\n",
        "\n",
        "    total_loss = 0.0\n",
        "    sum_sq_err = 0.0\n",
        "    n_batches = len(dataloader)\n",
        "    n_samples = 0.0\n",
        "\n",
        "    iterator = tqdm(\n",
        "        enumerate(dataloader),\n",
        "        total=len(dataloader),\n",
        "        disable=not print_batch_stats)\n",
        "\n",
        "    for batch_idx, batch in iterator:\n",
        "      X, y = batch[0], batch[1]\n",
        "      X, y = X.to(device).float(), y.to(device).float()\n",
        "\n",
        "      preds = model(X)\n",
        "      batch_loss = loss_fn(preds, y).item()\n",
        "      total_loss += batch_loss\n",
        "\n",
        "      preds_flat = preds.detach().view(-1)\n",
        "      y_flat = y.detach().view(-1)\n",
        "      sum_sq_err += torch.sum((preds_flat - y_flat)**2).item()\n",
        "      n_samples += y_flat.numel()\n",
        "\n",
        "      if print_batch_stats:\n",
        "        running_rmse = (sum_sq_err/max(n_samples,1)) ** 0.5\n",
        "        iterator.set_description(\n",
        "            f\"Val Batch {batch_idx + 1}/{len(dataloader)},\"\n",
        "            f\"Loss: {batch_loss:.6f}, RMSE: {running_rmse:.6f}\"\n",
        "        )\n",
        "\n",
        "    avg_loss = total_loss / n_batches if n_batches else float(\"nan\")\n",
        "    rmse = (sum_sq_err / max(n_samples, 1)) ** 0.5\n",
        "\n",
        "    print(f\"Val RMSE: {rmse:.6f}, Val Loss: {avg_loss:.6f}\")\n",
        "    return avg_loss, rmse"
      ],
      "metadata": {
        "id": "xuaOp1XF2R4g"
      },
      "execution_count": 35,
      "outputs": []
    },
    {
      "cell_type": "code",
      "source": [
        "optimizer = torch.optim.AdamW(model.parameters(), lr=lr, weight_decay=weight_decay)\n",
        "scheduler = torch.optim.lr_scheduler.CosineAnnealingLR(optimizer, T_max = n_epochs -1)\n",
        "loss_fn = torch.nn.MSELoss()\n",
        "\n",
        "patience = 5\n",
        "min_delta = 1e-4\n",
        "best_rmse = float('inf')\n",
        "epochs_no_improve = 0\n",
        "best_state, best_epoch = None, None\n",
        "\n",
        "model.to(device)\n",
        "for epoch in range(1, n_epochs+1):\n",
        "  print(f'Epoch {epoch}/{n_epochs}: ', end='')\n",
        "\n",
        "  train_loss, train_rmse = train_one_epoch(\n",
        "      train_loader, model, loss_fn, optimizer, scheduler, epoch, device\n",
        "  )\n",
        "  valid_loss, valid_rmse = valid_model(\n",
        "      valid_loader, model, loss_fn, device\n",
        "  )\n",
        "  print(\n",
        "      f'Train RMSE: {train_rmse:.6f}, '\n",
        "      f'Average Train Loss: {train_loss:.6f}, '\n",
        "      f'Val RMSE: {valid_rmse:.6f}, '\n",
        "      f'Average Valid Loss: {valid_loss:.6f}\\n'\n",
        "  )\n",
        "if best_state is not None:\n",
        "  model.load_state_dict(best_state)"
      ],
      "metadata": {
        "id": "C61B7y3g5YlP",
        "colab": {
          "base_uri": "https://localhost:8080/"
        },
        "outputId": "8e6b9c6b-b1a0-4f73-a68c-8f3a64a63821"
      },
      "execution_count": null,
      "outputs": [
        {
          "output_type": "stream",
          "name": "stdout",
          "text": [
            "Epoch 1/100: "
          ]
        },
        {
          "output_type": "stream",
          "name": "stderr",
          "text": [
            "Epoch 1, Batch 101/101,Loss: 0.184482, RMSE: 0.455785: 100%|██████████| 101/101 [00:49<00:00,  2.02it/s]\n",
            "Val Batch 10/10,Loss: 0.267905, RMSE: 0.405653: 100%|██████████| 10/10 [00:03<00:00,  2.98it/s]"
          ]
        },
        {
          "output_type": "stream",
          "name": "stdout",
          "text": [
            "Val RMSE: 0.405653, Val Loss: 0.169883\n",
            "\n",
            "Train RMSE: 0.455785, Average Train Loss: 0.207519, Val RMSE: 0.405653, Average Valid Loss: 0.169883\n",
            "\n",
            "Epoch 2/100: "
          ]
        },
        {
          "output_type": "stream",
          "name": "stderr",
          "text": [
            "\n",
            "Epoch 2, Batch 101/101,Loss: 0.158314, RMSE: 0.448486: 100%|██████████| 101/101 [00:49<00:00,  2.03it/s]\n",
            "Val Batch 10/10,Loss: 0.268793, RMSE: 0.413763: 100%|██████████| 10/10 [00:03<00:00,  2.96it/s]"
          ]
        },
        {
          "output_type": "stream",
          "name": "stdout",
          "text": [
            "Val RMSE: 0.413763, Val Loss: 0.176232\n",
            "\n",
            "Train RMSE: 0.448486, Average Train Loss: 0.200732, Val RMSE: 0.413763, Average Valid Loss: 0.176232\n",
            "\n",
            "Epoch 3/100: "
          ]
        },
        {
          "output_type": "stream",
          "name": "stderr",
          "text": [
            "\n",
            "Epoch 3, Batch 101/101,Loss: 0.268585, RMSE: 0.445947: 100%|██████████| 101/101 [00:49<00:00,  2.02it/s]\n",
            "Val Batch 10/10,Loss: 0.247082, RMSE: 0.394169: 100%|██████████| 10/10 [00:03<00:00,  2.52it/s]"
          ]
        },
        {
          "output_type": "stream",
          "name": "stdout",
          "text": [
            "Val RMSE: 0.394169, Val Loss: 0.160098\n",
            "\n",
            "Train RMSE: 0.445947, Average Train Loss: 0.199532, Val RMSE: 0.394169, Average Valid Loss: 0.160098\n",
            "\n",
            "Epoch 4/100: "
          ]
        },
        {
          "output_type": "stream",
          "name": "stderr",
          "text": [
            "\n",
            "Epoch 4, Batch 101/101,Loss: 0.203967, RMSE: 0.440531: 100%|██████████| 101/101 [00:49<00:00,  2.05it/s]\n",
            "Val Batch 10/10,Loss: 0.283080, RMSE: 0.416578: 100%|██████████| 10/10 [00:04<00:00,  2.39it/s]"
          ]
        },
        {
          "output_type": "stream",
          "name": "stdout",
          "text": [
            "Val RMSE: 0.416578, Val Loss: 0.179185\n",
            "\n",
            "Train RMSE: 0.440531, Average Train Loss: 0.194162, Val RMSE: 0.416578, Average Valid Loss: 0.179185\n",
            "\n",
            "Epoch 5/100: "
          ]
        },
        {
          "output_type": "stream",
          "name": "stderr",
          "text": [
            "\n",
            "Epoch 5, Batch 101/101,Loss: 0.096945, RMSE: 0.439175: 100%|██████████| 101/101 [00:49<00:00,  2.06it/s]\n",
            "Val Batch 10/10,Loss: 0.327549, RMSE: 0.445448: 100%|██████████| 10/10 [00:03<00:00,  3.00it/s]"
          ]
        },
        {
          "output_type": "stream",
          "name": "stdout",
          "text": [
            "Val RMSE: 0.445448, Val Loss: 0.205082\n",
            "\n",
            "Train RMSE: 0.439175, Average Train Loss: 0.191962, Val RMSE: 0.445448, Average Valid Loss: 0.205082\n",
            "\n",
            "Epoch 6/100: "
          ]
        },
        {
          "output_type": "stream",
          "name": "stderr",
          "text": [
            "\n",
            "Epoch 6, Batch 101/101,Loss: 0.096096, RMSE: 0.432810: 100%|██████████| 101/101 [00:49<00:00,  2.05it/s]\n",
            "Val Batch 10/10,Loss: 0.173509, RMSE: 0.410534: 100%|██████████| 10/10 [00:03<00:00,  3.02it/s]"
          ]
        },
        {
          "output_type": "stream",
          "name": "stdout",
          "text": [
            "Val RMSE: 0.410534, Val Loss: 0.168794\n",
            "\n",
            "Train RMSE: 0.432810, Average Train Loss: 0.186457, Val RMSE: 0.410534, Average Valid Loss: 0.168794\n",
            "\n",
            "Epoch 7/100: "
          ]
        },
        {
          "output_type": "stream",
          "name": "stderr",
          "text": [
            "\n",
            "Epoch 7, Batch 101/101,Loss: 0.308443, RMSE: 0.434887: 100%|██████████| 101/101 [00:49<00:00,  2.03it/s]\n",
            "Val Batch 10/10,Loss: 0.311770, RMSE: 0.439666: 100%|██████████| 10/10 [00:03<00:00,  2.98it/s]"
          ]
        },
        {
          "output_type": "stream",
          "name": "stdout",
          "text": [
            "Val RMSE: 0.439666, Val Loss: 0.199415\n",
            "\n",
            "Train RMSE: 0.434887, Average Train Loss: 0.190262, Val RMSE: 0.439666, Average Valid Loss: 0.199415\n",
            "\n",
            "Epoch 8/100: "
          ]
        },
        {
          "output_type": "stream",
          "name": "stderr",
          "text": [
            "\n",
            "Epoch 8, Batch 101/101,Loss: 0.101653, RMSE: 0.431008: 100%|██████████| 101/101 [00:49<00:00,  2.03it/s]\n",
            "Val Batch 10/10,Loss: 0.238786, RMSE: 0.416638: 100%|██████████| 10/10 [00:03<00:00,  2.95it/s]"
          ]
        },
        {
          "output_type": "stream",
          "name": "stdout",
          "text": [
            "Val RMSE: 0.416638, Val Loss: 0.176949\n",
            "\n",
            "Train RMSE: 0.431008, Average Train Loss: 0.184967, Val RMSE: 0.416638, Average Valid Loss: 0.176949\n",
            "\n",
            "Epoch 9/100: "
          ]
        },
        {
          "output_type": "stream",
          "name": "stderr",
          "text": [
            "\n",
            "Epoch 9, Batch 101/101,Loss: 0.174943, RMSE: 0.430016: 100%|██████████| 101/101 [00:49<00:00,  2.04it/s]\n",
            "Val Batch 10/10,Loss: 0.322919, RMSE: 0.437641: 100%|██████████| 10/10 [00:04<00:00,  2.43it/s]"
          ]
        },
        {
          "output_type": "stream",
          "name": "stdout",
          "text": [
            "Val RMSE: 0.437641, Val Loss: 0.198305\n",
            "\n",
            "Train RMSE: 0.430016, Average Train Loss: 0.184819, Val RMSE: 0.437641, Average Valid Loss: 0.198305\n",
            "\n",
            "Epoch 10/100: "
          ]
        },
        {
          "output_type": "stream",
          "name": "stderr",
          "text": [
            "\n",
            "Epoch 10, Batch 101/101,Loss: 0.005644, RMSE: 0.425000: 100%|██████████| 101/101 [00:48<00:00,  2.08it/s]\n",
            "Val Batch 10/10,Loss: 0.263331, RMSE: 0.418479: 100%|██████████| 10/10 [00:04<00:00,  2.38it/s]"
          ]
        },
        {
          "output_type": "stream",
          "name": "stdout",
          "text": [
            "Val RMSE: 0.418479, Val Loss: 0.179673\n",
            "\n",
            "Train RMSE: 0.425000, Average Train Loss: 0.178960, Val RMSE: 0.418479, Average Valid Loss: 0.179673\n",
            "\n",
            "Epoch 11/100: "
          ]
        },
        {
          "output_type": "stream",
          "name": "stderr",
          "text": [
            "\n",
            "Epoch 11, Batch 101/101,Loss: 0.298239, RMSE: 0.426737: 100%|██████████| 101/101 [00:49<00:00,  2.05it/s]\n",
            "Val Batch 10/10,Loss: 0.335156, RMSE: 0.451187: 100%|██████████| 10/10 [00:03<00:00,  3.01it/s]"
          ]
        },
        {
          "output_type": "stream",
          "name": "stdout",
          "text": [
            "Val RMSE: 0.451187, Val Loss: 0.210355\n",
            "\n",
            "Train RMSE: 0.426737, Average Train Loss: 0.183209, Val RMSE: 0.451187, Average Valid Loss: 0.210355\n",
            "\n",
            "Epoch 12/100: "
          ]
        },
        {
          "output_type": "stream",
          "name": "stderr",
          "text": [
            "\n",
            "Epoch 12, Batch 101/101,Loss: 0.186346, RMSE: 0.423823: 100%|██████████| 101/101 [00:49<00:00,  2.04it/s]\n",
            "Val Batch 10/10,Loss: 0.183383, RMSE: 0.393433: 100%|██████████| 10/10 [00:03<00:00,  2.93it/s]"
          ]
        },
        {
          "output_type": "stream",
          "name": "stdout",
          "text": [
            "Val RMSE: 0.393433, Val Loss: 0.156264\n",
            "\n",
            "Train RMSE: 0.423823, Average Train Loss: 0.179690, Val RMSE: 0.393433, Average Valid Loss: 0.156264\n",
            "\n",
            "Epoch 13/100: "
          ]
        },
        {
          "output_type": "stream",
          "name": "stderr",
          "text": [
            "\n",
            "Epoch 13, Batch 101/101,Loss: 0.726453, RMSE: 0.422737: 100%|██████████| 101/101 [00:49<00:00,  2.03it/s]\n",
            "Val Batch 10/10,Loss: 0.224362, RMSE: 0.418283: 100%|██████████| 10/10 [00:03<00:00,  2.95it/s]"
          ]
        },
        {
          "output_type": "stream",
          "name": "stdout",
          "text": [
            "Val RMSE: 0.418283, Val Loss: 0.177508\n",
            "\n",
            "Train RMSE: 0.422737, Average Train Loss: 0.183918, Val RMSE: 0.418283, Average Valid Loss: 0.177508\n",
            "\n",
            "Epoch 14/100: "
          ]
        },
        {
          "output_type": "stream",
          "name": "stderr",
          "text": [
            "\n",
            "Epoch 14, Batch 101/101,Loss: 0.124685, RMSE: 0.420769: 100%|██████████| 101/101 [00:49<00:00,  2.04it/s]\n",
            "Val Batch 10/10,Loss: 0.332202, RMSE: 0.446549: 100%|██████████| 10/10 [00:03<00:00,  3.00it/s]"
          ]
        },
        {
          "output_type": "stream",
          "name": "stdout",
          "text": [
            "Val RMSE: 0.446549, Val Loss: 0.206254\n",
            "\n",
            "Train RMSE: 0.420769, Average Train Loss: 0.176548, Val RMSE: 0.446549, Average Valid Loss: 0.206254\n",
            "\n",
            "Epoch 15/100: "
          ]
        },
        {
          "output_type": "stream",
          "name": "stderr",
          "text": [
            "\n",
            "Epoch 15, Batch 101/101,Loss: 0.590182, RMSE: 0.419737: 100%|██████████| 101/101 [00:49<00:00,  2.03it/s]\n",
            "Val Batch 10/10,Loss: 0.271161, RMSE: 0.416932: 100%|██████████| 10/10 [00:04<00:00,  2.33it/s]"
          ]
        },
        {
          "output_type": "stream",
          "name": "stdout",
          "text": [
            "Val RMSE: 0.416932, Val Loss: 0.178850\n",
            "\n",
            "Train RMSE: 0.419737, Average Train Loss: 0.180118, Val RMSE: 0.416932, Average Valid Loss: 0.178850\n",
            "\n",
            "Epoch 16/100: "
          ]
        },
        {
          "output_type": "stream",
          "name": "stderr",
          "text": [
            "\n",
            "Epoch 16, Batch 101/101,Loss: 0.103534, RMSE: 0.417469: 100%|██████████| 101/101 [00:48<00:00,  2.07it/s]\n",
            "Val Batch 10/10,Loss: 0.230421, RMSE: 0.434488: 100%|██████████| 10/10 [00:04<00:00,  2.47it/s]"
          ]
        },
        {
          "output_type": "stream",
          "name": "stdout",
          "text": [
            "Val RMSE: 0.434488, Val Loss: 0.190927\n",
            "\n",
            "Train RMSE: 0.417469, Average Train Loss: 0.173607, Val RMSE: 0.434488, Average Valid Loss: 0.190927\n",
            "\n",
            "Epoch 17/100: "
          ]
        },
        {
          "output_type": "stream",
          "name": "stderr",
          "text": [
            "\n",
            "Epoch 17, Batch 101/101,Loss: 0.367536, RMSE: 0.415456: 100%|██████████| 101/101 [00:49<00:00,  2.04it/s]\n",
            "Val Batch 10/10,Loss: 0.333714, RMSE: 0.453358: 100%|██████████| 10/10 [00:03<00:00,  2.91it/s]"
          ]
        },
        {
          "output_type": "stream",
          "name": "stdout",
          "text": [
            "Val RMSE: 0.453358, Val Loss: 0.212143\n",
            "\n",
            "Train RMSE: 0.415456, Average Train Loss: 0.174459, Val RMSE: 0.453358, Average Valid Loss: 0.212143\n",
            "\n",
            "Epoch 18/100: "
          ]
        },
        {
          "output_type": "stream",
          "name": "stderr",
          "text": [
            "\n",
            "Epoch 18, Batch 101/101,Loss: 0.196691, RMSE: 0.414274: 100%|██████████| 101/101 [00:49<00:00,  2.03it/s]\n",
            "Val Batch 10/10,Loss: 0.217745, RMSE: 0.420542: 100%|██████████| 10/10 [00:03<00:00,  2.96it/s]"
          ]
        },
        {
          "output_type": "stream",
          "name": "stdout",
          "text": [
            "Val RMSE: 0.420542, Val Loss: 0.178964\n",
            "\n",
            "Train RMSE: 0.414274, Average Train Loss: 0.171862, Val RMSE: 0.420542, Average Valid Loss: 0.178964\n",
            "\n",
            "Epoch 19/100: "
          ]
        },
        {
          "output_type": "stream",
          "name": "stderr",
          "text": [
            "\n",
            "Epoch 19, Batch 101/101,Loss: 0.254773, RMSE: 0.413639: 100%|██████████| 101/101 [00:49<00:00,  2.04it/s]\n",
            "Val Batch 10/10,Loss: 0.308400, RMSE: 0.432493: 100%|██████████| 10/10 [00:03<00:00,  3.01it/s]"
          ]
        },
        {
          "output_type": "stream",
          "name": "stdout",
          "text": [
            "Val RMSE: 0.432493, Val Loss: 0.193307\n",
            "\n",
            "Train RMSE: 0.413639, Average Train Loss: 0.171893, Val RMSE: 0.432493, Average Valid Loss: 0.193307\n",
            "\n",
            "Epoch 20/100: "
          ]
        },
        {
          "output_type": "stream",
          "name": "stderr",
          "text": [
            "\n",
            "Epoch 20, Batch 101/101,Loss: 0.091229, RMSE: 0.413669: 100%|██████████| 101/101 [00:49<00:00,  2.04it/s]\n",
            "Val Batch 10/10,Loss: 0.256197, RMSE: 0.414064: 100%|██████████| 10/10 [00:04<00:00,  2.47it/s]"
          ]
        },
        {
          "output_type": "stream",
          "name": "stdout",
          "text": [
            "Val RMSE: 0.414064, Val Loss: 0.175819\n",
            "\n",
            "Train RMSE: 0.413669, Average Train Loss: 0.170362, Val RMSE: 0.414064, Average Valid Loss: 0.175819\n",
            "\n",
            "Epoch 21/100: "
          ]
        },
        {
          "output_type": "stream",
          "name": "stderr",
          "text": [
            "\n",
            "Epoch 21, Batch 101/101,Loss: 0.094020, RMSE: 0.413666: 100%|██████████| 101/101 [00:48<00:00,  2.07it/s]\n",
            "Val Batch 10/10,Loss: 0.269285, RMSE: 0.412989: 100%|██████████| 10/10 [00:04<00:00,  2.44it/s]"
          ]
        },
        {
          "output_type": "stream",
          "name": "stdout",
          "text": [
            "Val RMSE: 0.412989, Val Loss: 0.175650\n",
            "\n",
            "Train RMSE: 0.413666, Average Train Loss: 0.170386, Val RMSE: 0.412989, Average Valid Loss: 0.175650\n",
            "\n",
            "Epoch 22/100: "
          ]
        },
        {
          "output_type": "stream",
          "name": "stderr",
          "text": [
            "\n",
            "Epoch 22, Batch 101/101,Loss: 0.060953, RMSE: 0.408646: 100%|██████████| 101/101 [00:49<00:00,  2.05it/s]\n",
            "Val Batch 10/10,Loss: 0.244124, RMSE: 0.410281: 100%|██████████| 10/10 [00:03<00:00,  3.01it/s]"
          ]
        },
        {
          "output_type": "stream",
          "name": "stdout",
          "text": [
            "Val RMSE: 0.410281, Val Loss: 0.172238\n",
            "\n",
            "Train RMSE: 0.408646, Average Train Loss: 0.165982, Val RMSE: 0.410281, Average Valid Loss: 0.172238\n",
            "\n",
            "Epoch 23/100: "
          ]
        },
        {
          "output_type": "stream",
          "name": "stderr",
          "text": [
            "\n",
            "Epoch 23, Batch 101/101,Loss: 0.046396, RMSE: 0.407486: 100%|██████████| 101/101 [00:49<00:00,  2.05it/s]\n",
            "Val Batch 10/10,Loss: 0.271846, RMSE: 0.415987: 100%|██████████| 10/10 [00:03<00:00,  3.01it/s]"
          ]
        },
        {
          "output_type": "stream",
          "name": "stdout",
          "text": [
            "Val RMSE: 0.415987, Val Loss: 0.178140\n",
            "\n",
            "Train RMSE: 0.407486, Average Train Loss: 0.164907, Val RMSE: 0.415987, Average Valid Loss: 0.178140\n",
            "\n",
            "Epoch 24/100: "
          ]
        },
        {
          "output_type": "stream",
          "name": "stderr",
          "text": [
            "\n",
            "Epoch 24, Batch 101/101,Loss: 0.134998, RMSE: 0.407936: 100%|██████████| 101/101 [00:49<00:00,  2.06it/s]\n",
            "Val Batch 10/10,Loss: 0.270400, RMSE: 0.428374: 100%|██████████| 10/10 [00:03<00:00,  2.99it/s]"
          ]
        },
        {
          "output_type": "stream",
          "name": "stdout",
          "text": [
            "Val RMSE: 0.428374, Val Loss: 0.187985\n",
            "\n",
            "Train RMSE: 0.407936, Average Train Loss: 0.166113, Val RMSE: 0.428374, Average Valid Loss: 0.187985\n",
            "\n",
            "Epoch 25/100: "
          ]
        },
        {
          "output_type": "stream",
          "name": "stderr",
          "text": [
            "\n",
            "Epoch 25, Batch 101/101,Loss: 0.025919, RMSE: 0.409091: 100%|██████████| 101/101 [00:48<00:00,  2.06it/s]\n",
            "Val Batch 10/10,Loss: 0.178835, RMSE: 0.413517: 100%|██████████| 10/10 [00:03<00:00,  3.08it/s]"
          ]
        },
        {
          "output_type": "stream",
          "name": "stdout",
          "text": [
            "Val RMSE: 0.413517, Val Loss: 0.171401\n",
            "\n",
            "Train RMSE: 0.409091, Average Train Loss: 0.166010, Val RMSE: 0.413517, Average Valid Loss: 0.171401\n",
            "\n",
            "Epoch 26/100: "
          ]
        },
        {
          "output_type": "stream",
          "name": "stderr",
          "text": [
            "\n",
            "Epoch 26, Batch 101/101,Loss: 0.211720, RMSE: 0.405718: 100%|██████████| 101/101 [00:48<00:00,  2.08it/s]\n",
            "Val Batch 10/10,Loss: 0.282438, RMSE: 0.422061: 100%|██████████| 10/10 [00:03<00:00,  2.78it/s]"
          ]
        },
        {
          "output_type": "stream",
          "name": "stdout",
          "text": [
            "Val RMSE: 0.422061, Val Loss: 0.183513\n",
            "\n",
            "Train RMSE: 0.405718, Average Train Loss: 0.165055, Val RMSE: 0.422061, Average Valid Loss: 0.183513\n",
            "\n",
            "Epoch 27/100: "
          ]
        },
        {
          "output_type": "stream",
          "name": "stderr",
          "text": [
            "\n",
            "Epoch 27, Batch 101/101,Loss: 0.138450, RMSE: 0.404643: 100%|██████████| 101/101 [00:48<00:00,  2.08it/s]\n",
            "Val Batch 10/10,Loss: 0.159856, RMSE: 0.423167: 100%|██████████| 10/10 [00:04<00:00,  2.43it/s]"
          ]
        },
        {
          "output_type": "stream",
          "name": "stdout",
          "text": [
            "Val RMSE: 0.423167, Val Loss: 0.178079\n",
            "\n",
            "Train RMSE: 0.404643, Average Train Loss: 0.163496, Val RMSE: 0.423167, Average Valid Loss: 0.178079\n",
            "\n",
            "Epoch 28/100: "
          ]
        },
        {
          "output_type": "stream",
          "name": "stderr",
          "text": [
            "\n",
            "Epoch 28, Batch 101/101,Loss: 0.071854, RMSE: 0.403819: 100%|██████████| 101/101 [00:48<00:00,  2.10it/s]\n",
            "Val Batch 10/10,Loss: 0.276083, RMSE: 0.415649: 100%|██████████| 10/10 [00:03<00:00,  2.60it/s]"
          ]
        },
        {
          "output_type": "stream",
          "name": "stdout",
          "text": [
            "Val RMSE: 0.415649, Val Loss: 0.178092\n",
            "\n",
            "Train RMSE: 0.403819, Average Train Loss: 0.162202, Val RMSE: 0.415649, Average Valid Loss: 0.178092\n",
            "\n",
            "Epoch 29/100: "
          ]
        },
        {
          "output_type": "stream",
          "name": "stderr",
          "text": [
            "\n",
            "Epoch 29, Batch 101/101,Loss: 0.169458, RMSE: 0.402997: 100%|██████████| 101/101 [00:48<00:00,  2.07it/s]\n",
            "Val Batch 10/10,Loss: 0.195000, RMSE: 0.426086: 100%|██████████| 10/10 [00:03<00:00,  3.01it/s]"
          ]
        },
        {
          "output_type": "stream",
          "name": "stdout",
          "text": [
            "Val RMSE: 0.426086, Val Loss: 0.182243\n",
            "\n",
            "Train RMSE: 0.402997, Average Train Loss: 0.162474, Val RMSE: 0.426086, Average Valid Loss: 0.182243\n",
            "\n",
            "Epoch 30/100: "
          ]
        },
        {
          "output_type": "stream",
          "name": "stderr",
          "text": [
            "\n",
            "Epoch 30, Batch 101/101,Loss: 0.090492, RMSE: 0.402474: 100%|██████████| 101/101 [00:49<00:00,  2.05it/s]\n",
            "Val Batch 10/10,Loss: 0.228581, RMSE: 0.405917: 100%|██████████| 10/10 [00:03<00:00,  3.04it/s]"
          ]
        },
        {
          "output_type": "stream",
          "name": "stdout",
          "text": [
            "Val RMSE: 0.405917, Val Loss: 0.168059\n",
            "\n",
            "Train RMSE: 0.402474, Average Train Loss: 0.161305, Val RMSE: 0.405917, Average Valid Loss: 0.168059\n",
            "\n",
            "Epoch 31/100: "
          ]
        },
        {
          "output_type": "stream",
          "name": "stderr",
          "text": [
            "\n",
            "Epoch 31, Batch 101/101,Loss: 0.074509, RMSE: 0.400151: 100%|██████████| 101/101 [00:49<00:00,  2.06it/s]\n",
            "Val Batch 10/10,Loss: 0.152430, RMSE: 0.399589: 100%|██████████| 10/10 [00:03<00:00,  3.03it/s]"
          ]
        },
        {
          "output_type": "stream",
          "name": "stdout",
          "text": [
            "Val RMSE: 0.399589, Val Loss: 0.159298\n",
            "\n",
            "Train RMSE: 0.400151, Average Train Loss: 0.159306, Val RMSE: 0.399589, Average Valid Loss: 0.159298\n",
            "\n",
            "Epoch 32/100: "
          ]
        },
        {
          "output_type": "stream",
          "name": "stderr",
          "text": [
            "\n",
            "Epoch 32, Batch 101/101,Loss: 0.085964, RMSE: 0.400535: 100%|██████████| 101/101 [00:48<00:00,  2.07it/s]\n",
            "Val Batch 10/10,Loss: 0.165261, RMSE: 0.399607: 100%|██████████| 10/10 [00:03<00:00,  3.08it/s]"
          ]
        },
        {
          "output_type": "stream",
          "name": "stdout",
          "text": [
            "Val RMSE: 0.399607, Val Loss: 0.159973\n",
            "\n",
            "Train RMSE: 0.400535, Average Train Loss: 0.159720, Val RMSE: 0.399607, Average Valid Loss: 0.159973\n",
            "\n",
            "Epoch 33/100: "
          ]
        },
        {
          "output_type": "stream",
          "name": "stderr",
          "text": [
            "\n",
            "Epoch 33, Batch 101/101,Loss: 0.475071, RMSE: 0.400609: 100%|██████████| 101/101 [00:48<00:00,  2.06it/s]\n",
            "Val Batch 10/10,Loss: 0.263850, RMSE: 0.417393: 100%|██████████| 10/10 [00:03<00:00,  3.05it/s]"
          ]
        },
        {
          "output_type": "stream",
          "name": "stdout",
          "text": [
            "Val RMSE: 0.417393, Val Loss: 0.178838\n",
            "\n",
            "Train RMSE: 0.400609, Average Train Loss: 0.163481, Val RMSE: 0.417393, Average Valid Loss: 0.178838\n",
            "\n",
            "Epoch 34/100: "
          ]
        },
        {
          "output_type": "stream",
          "name": "stderr",
          "text": [
            "\n",
            "Epoch 34, Batch 101/101,Loss: 0.712397, RMSE: 0.400117: 100%|██████████| 101/101 [00:49<00:00,  2.04it/s]\n",
            "Val Batch 10/10,Loss: 0.253400, RMSE: 0.416147: 100%|██████████| 10/10 [00:04<00:00,  2.39it/s]"
          ]
        },
        {
          "output_type": "stream",
          "name": "stdout",
          "text": [
            "Val RMSE: 0.416147, Val Loss: 0.177315\n",
            "\n",
            "Train RMSE: 0.400117, Average Train Loss: 0.165349, Val RMSE: 0.416147, Average Valid Loss: 0.177315\n",
            "\n",
            "Epoch 35/100: "
          ]
        },
        {
          "output_type": "stream",
          "name": "stderr",
          "text": [
            "\n",
            "Epoch 35, Batch 101/101,Loss: 0.101023, RMSE: 0.400386: 100%|██████████| 101/101 [00:49<00:00,  2.02it/s]\n",
            "Val Batch 10/10,Loss: 0.222864, RMSE: 0.403369: 100%|██████████| 10/10 [00:03<00:00,  2.64it/s]"
          ]
        },
        {
          "output_type": "stream",
          "name": "stdout",
          "text": [
            "Val RMSE: 0.403369, Val Loss: 0.165808\n",
            "\n",
            "Train RMSE: 0.400386, Average Train Loss: 0.159745, Val RMSE: 0.403369, Average Valid Loss: 0.165808\n",
            "\n",
            "Epoch 36/100: "
          ]
        },
        {
          "output_type": "stream",
          "name": "stderr",
          "text": [
            "\n",
            "Epoch 36, Batch 101/101,Loss: 0.050287, RMSE: 0.396174: 100%|██████████| 101/101 [00:49<00:00,  2.05it/s]\n",
            "Val Batch 10/10,Loss: 0.249914, RMSE: 0.404315: 100%|██████████| 10/10 [00:03<00:00,  3.00it/s]"
          ]
        },
        {
          "output_type": "stream",
          "name": "stdout",
          "text": [
            "Val RMSE: 0.404315, Val Loss: 0.167928\n",
            "\n",
            "Train RMSE: 0.396174, Average Train Loss: 0.155939, Val RMSE: 0.404315, Average Valid Loss: 0.167928\n",
            "\n",
            "Epoch 37/100: "
          ]
        },
        {
          "output_type": "stream",
          "name": "stderr",
          "text": [
            "\n",
            "Epoch 37, Batch 101/101,Loss: 0.152162, RMSE: 0.397608: 100%|██████████| 101/101 [00:49<00:00,  2.05it/s]\n",
            "Val Batch 10/10,Loss: 0.249674, RMSE: 0.406021: 100%|██████████| 10/10 [00:03<00:00,  2.99it/s]"
          ]
        },
        {
          "output_type": "stream",
          "name": "stdout",
          "text": [
            "Val RMSE: 0.406021, Val Loss: 0.169227\n",
            "\n",
            "Train RMSE: 0.397608, Average Train Loss: 0.158036, Val RMSE: 0.406021, Average Valid Loss: 0.169227\n",
            "\n",
            "Epoch 38/100: "
          ]
        },
        {
          "output_type": "stream",
          "name": "stderr",
          "text": [
            "\n",
            "Epoch 38, Batch 101/101,Loss: 0.089539, RMSE: 0.395505: 100%|██████████| 101/101 [00:48<00:00,  2.07it/s]\n",
            "Val Batch 10/10,Loss: 0.185420, RMSE: 0.406679: 100%|██████████| 10/10 [00:03<00:00,  3.08it/s]"
          ]
        },
        {
          "output_type": "stream",
          "name": "stdout",
          "text": [
            "Val RMSE: 0.406679, Val Loss: 0.166421\n",
            "\n",
            "Train RMSE: 0.395505, Average Train Loss: 0.155788, Val RMSE: 0.406679, Average Valid Loss: 0.166421\n",
            "\n",
            "Epoch 39/100: "
          ]
        },
        {
          "output_type": "stream",
          "name": "stderr",
          "text": [
            "\n",
            "Epoch 39, Batch 101/101,Loss: 0.060698, RMSE: 0.394682: 100%|██████████| 101/101 [00:49<00:00,  2.05it/s]\n",
            "Val Batch 10/10,Loss: 0.182011, RMSE: 0.438348: 100%|██████████| 10/10 [00:03<00:00,  3.04it/s]"
          ]
        },
        {
          "output_type": "stream",
          "name": "stdout",
          "text": [
            "Val RMSE: 0.438348, Val Loss: 0.191626\n",
            "\n",
            "Train RMSE: 0.394682, Average Train Loss: 0.154869, Val RMSE: 0.438348, Average Valid Loss: 0.191626\n",
            "\n",
            "Epoch 40/100: "
          ]
        },
        {
          "output_type": "stream",
          "name": "stderr",
          "text": [
            "\n",
            "Epoch 40, Batch 101/101,Loss: 0.494765, RMSE: 0.395331: 100%|██████████| 101/101 [00:49<00:00,  2.05it/s]\n",
            "Val Batch 10/10,Loss: 0.174618, RMSE: 0.407994: 100%|██████████| 10/10 [00:03<00:00,  2.78it/s]"
          ]
        },
        {
          "output_type": "stream",
          "name": "stdout",
          "text": [
            "Val RMSE: 0.407994, Val Loss: 0.166880\n",
            "\n",
            "Train RMSE: 0.395331, Average Train Loss: 0.159507, Val RMSE: 0.407994, Average Valid Loss: 0.166880\n",
            "\n",
            "Epoch 41/100: "
          ]
        },
        {
          "output_type": "stream",
          "name": "stderr",
          "text": [
            "\n",
            "Epoch 41, Batch 101/101,Loss: 0.212578, RMSE: 0.394299: 100%|██████████| 101/101 [00:49<00:00,  2.06it/s]\n",
            "Val Batch 10/10,Loss: 0.183645, RMSE: 0.415621: 100%|██████████| 10/10 [00:04<00:00,  2.36it/s]"
          ]
        },
        {
          "output_type": "stream",
          "name": "stdout",
          "text": [
            "Val RMSE: 0.415621, Val Loss: 0.173303\n",
            "\n",
            "Train RMSE: 0.394299, Average Train Loss: 0.156015, Val RMSE: 0.415621, Average Valid Loss: 0.173303\n",
            "\n",
            "Epoch 42/100: "
          ]
        },
        {
          "output_type": "stream",
          "name": "stderr",
          "text": [
            "\n",
            "Epoch 42, Batch 101/101,Loss: 0.048815, RMSE: 0.393788: 100%|██████████| 101/101 [00:49<00:00,  2.05it/s]\n",
            "Val Batch 10/10,Loss: 0.219703, RMSE: 0.430442: 100%|██████████| 10/10 [00:03<00:00,  2.92it/s]"
          ]
        },
        {
          "output_type": "stream",
          "name": "stdout",
          "text": [
            "Val RMSE: 0.430442, Val Loss: 0.187055\n",
            "\n",
            "Train RMSE: 0.393788, Average Train Loss: 0.154058, Val RMSE: 0.430442, Average Valid Loss: 0.187055\n",
            "\n",
            "Epoch 43/100: "
          ]
        },
        {
          "output_type": "stream",
          "name": "stderr",
          "text": [
            "\n",
            "Epoch 43, Batch 101/101,Loss: 0.155854, RMSE: 0.393819: 100%|██████████| 101/101 [00:49<00:00,  2.06it/s]\n",
            "Val Batch 10/10,Loss: 0.167734, RMSE: 0.419380: 100%|██████████| 10/10 [00:03<00:00,  3.06it/s]"
          ]
        },
        {
          "output_type": "stream",
          "name": "stdout",
          "text": [
            "Val RMSE: 0.419380, Val Loss: 0.175459\n",
            "\n",
            "Train RMSE: 0.393819, Average Train Loss: 0.155101, Val RMSE: 0.419380, Average Valid Loss: 0.175459\n",
            "\n",
            "Epoch 44/100: "
          ]
        },
        {
          "output_type": "stream",
          "name": "stderr",
          "text": [
            "\n",
            "Epoch 44, Batch 101/101,Loss: 0.385067, RMSE: 0.392559: 100%|██████████| 101/101 [00:48<00:00,  2.06it/s]\n",
            "Val Batch 10/10,Loss: 0.223836, RMSE: 0.394885: 100%|██████████| 10/10 [00:03<00:00,  3.03it/s]"
          ]
        },
        {
          "output_type": "stream",
          "name": "stdout",
          "text": [
            "Val RMSE: 0.394885, Val Loss: 0.159436\n",
            "\n",
            "Train RMSE: 0.392559, Average Train Loss: 0.156300, Val RMSE: 0.394885, Average Valid Loss: 0.159436\n",
            "\n",
            "Epoch 45/100: "
          ]
        },
        {
          "output_type": "stream",
          "name": "stderr",
          "text": [
            "\n",
            "Epoch 45, Batch 101/101,Loss: 0.207232, RMSE: 0.392481: 100%|██████████| 101/101 [00:49<00:00,  2.04it/s]\n",
            "Val Batch 10/10,Loss: 0.156314, RMSE: 0.410527: 100%|██████████| 10/10 [00:03<00:00,  3.05it/s]"
          ]
        },
        {
          "output_type": "stream",
          "name": "stdout",
          "text": [
            "Val RMSE: 0.410527, Val Loss: 0.167902\n",
            "\n",
            "Train RMSE: 0.392481, Average Train Loss: 0.154548, Val RMSE: 0.410527, Average Valid Loss: 0.167902\n",
            "\n",
            "Epoch 46/100: "
          ]
        },
        {
          "output_type": "stream",
          "name": "stderr",
          "text": [
            "\n",
            "Epoch 46, Batch 101/101,Loss: 0.186849, RMSE: 0.393486: 100%|██████████| 101/101 [00:48<00:00,  2.08it/s]\n",
            "Val Batch 10/10,Loss: 0.168790, RMSE: 0.384271: 100%|██████████| 10/10 [00:03<00:00,  3.09it/s]"
          ]
        },
        {
          "output_type": "stream",
          "name": "stdout",
          "text": [
            "Val RMSE: 0.384271, Val Loss: 0.148754\n",
            "\n",
            "Train RMSE: 0.393486, Average Train Loss: 0.155135, Val RMSE: 0.384271, Average Valid Loss: 0.148754\n",
            "\n",
            "Epoch 47/100: "
          ]
        },
        {
          "output_type": "stream",
          "name": "stderr",
          "text": [
            "\n",
            "Epoch 47, Batch 101/101,Loss: 0.051473, RMSE: 0.390415: 100%|██████████| 101/101 [00:48<00:00,  2.08it/s]\n",
            "Val Batch 10/10,Loss: 0.220744, RMSE: 0.400029: 100%|██████████| 10/10 [00:03<00:00,  3.03it/s]"
          ]
        },
        {
          "output_type": "stream",
          "name": "stdout",
          "text": [
            "Val RMSE: 0.400029, Val Loss: 0.163154\n",
            "\n",
            "Train RMSE: 0.390415, Average Train Loss: 0.151464, Val RMSE: 0.400029, Average Valid Loss: 0.163154\n",
            "\n",
            "Epoch 48/100: "
          ]
        },
        {
          "output_type": "stream",
          "name": "stderr",
          "text": [
            "\n",
            "Epoch 48, Batch 101/101,Loss: 0.061833, RMSE: 0.391968: 100%|██████████| 101/101 [00:48<00:00,  2.08it/s]\n",
            "Val Batch 10/10,Loss: 0.159157, RMSE: 0.397358: 100%|██████████| 10/10 [00:04<00:00,  2.47it/s]"
          ]
        },
        {
          "output_type": "stream",
          "name": "stdout",
          "text": [
            "Val RMSE: 0.397358, Val Loss: 0.157959\n",
            "\n",
            "Train RMSE: 0.391968, Average Train Loss: 0.152766, Val RMSE: 0.397358, Average Valid Loss: 0.157959\n",
            "\n",
            "Epoch 49/100: "
          ]
        },
        {
          "output_type": "stream",
          "name": "stderr",
          "text": [
            "\n",
            "Epoch 49, Batch 101/101,Loss: 0.127211, RMSE: 0.391979: 100%|██████████| 101/101 [00:47<00:00,  2.11it/s]\n",
            "Val Batch 10/10,Loss: 0.158706, RMSE: 0.402503: 100%|██████████| 10/10 [00:04<00:00,  2.42it/s]"
          ]
        },
        {
          "output_type": "stream",
          "name": "stdout",
          "text": [
            "Val RMSE: 0.402503, Val Loss: 0.161838\n",
            "\n",
            "Train RMSE: 0.391979, Average Train Loss: 0.153396, Val RMSE: 0.402503, Average Valid Loss: 0.161838\n",
            "\n",
            "Epoch 50/100: "
          ]
        },
        {
          "output_type": "stream",
          "name": "stderr",
          "text": [
            "\n",
            "Epoch 50, Batch 101/101,Loss: 0.074350, RMSE: 0.391530: 100%|██████████| 101/101 [00:48<00:00,  2.09it/s]\n",
            "Val Batch 10/10,Loss: 0.180871, RMSE: 0.397879: 100%|██████████| 10/10 [00:03<00:00,  2.87it/s]"
          ]
        },
        {
          "output_type": "stream",
          "name": "stdout",
          "text": [
            "Val RMSE: 0.397879, Val Loss: 0.159471\n",
            "\n",
            "Train RMSE: 0.391530, Average Train Loss: 0.152545, Val RMSE: 0.397879, Average Valid Loss: 0.159471\n",
            "\n",
            "Epoch 51/100: "
          ]
        },
        {
          "output_type": "stream",
          "name": "stderr",
          "text": [
            "\n",
            "Epoch 51, Batch 101/101,Loss: 0.030474, RMSE: 0.389853: 100%|██████████| 101/101 [00:48<00:00,  2.07it/s]\n",
            "Val Batch 10/10,Loss: 0.175392, RMSE: 0.405949: 100%|██████████| 10/10 [00:03<00:00,  3.11it/s]"
          ]
        },
        {
          "output_type": "stream",
          "name": "stdout",
          "text": [
            "Val RMSE: 0.405949, Val Loss: 0.165341\n",
            "\n",
            "Train RMSE: 0.389853, Average Train Loss: 0.150829, Val RMSE: 0.405949, Average Valid Loss: 0.165341\n",
            "\n",
            "Epoch 52/100: "
          ]
        },
        {
          "output_type": "stream",
          "name": "stderr",
          "text": [
            "\n",
            "Epoch 52, Batch 101/101,Loss: 0.546034, RMSE: 0.390220: 100%|██████████| 101/101 [00:48<00:00,  2.08it/s]\n",
            "Val Batch 10/10,Loss: 0.199513, RMSE: 0.385575: 100%|██████████| 10/10 [00:03<00:00,  3.06it/s]"
          ]
        },
        {
          "output_type": "stream",
          "name": "stdout",
          "text": [
            "Val RMSE: 0.385575, Val Loss: 0.151290\n",
            "\n",
            "Train RMSE: 0.390220, Average Train Loss: 0.156018, Val RMSE: 0.385575, Average Valid Loss: 0.151290\n",
            "\n",
            "Epoch 53/100: "
          ]
        },
        {
          "output_type": "stream",
          "name": "stderr",
          "text": [
            "\n",
            "Epoch 53, Batch 101/101,Loss: 0.134419, RMSE: 0.390792: 100%|██████████| 101/101 [00:48<00:00,  2.07it/s]\n",
            "Val Batch 10/10,Loss: 0.210520, RMSE: 0.389785: 100%|██████████| 10/10 [00:03<00:00,  3.10it/s]"
          ]
        },
        {
          "output_type": "stream",
          "name": "stdout",
          "text": [
            "Val RMSE: 0.389785, Val Loss: 0.154953\n",
            "\n",
            "Train RMSE: 0.390792, Average Train Loss: 0.152544, Val RMSE: 0.389785, Average Valid Loss: 0.154953\n",
            "\n",
            "Epoch 54/100: "
          ]
        },
        {
          "output_type": "stream",
          "name": "stderr",
          "text": [
            "\n",
            "Epoch 54, Batch 101/101,Loss: 0.351615, RMSE: 0.389260: 100%|██████████| 101/101 [00:48<00:00,  2.08it/s]\n",
            "Val Batch 10/10,Loss: 0.194611, RMSE: 0.382998: 100%|██████████| 10/10 [00:03<00:00,  3.03it/s]"
          ]
        },
        {
          "output_type": "stream",
          "name": "stdout",
          "text": [
            "Val RMSE: 0.382998, Val Loss: 0.149159\n",
            "\n",
            "Train RMSE: 0.389260, Average Train Loss: 0.153427, Val RMSE: 0.382998, Average Valid Loss: 0.149159\n",
            "\n",
            "Epoch 55/100: "
          ]
        },
        {
          "output_type": "stream",
          "name": "stderr",
          "text": [
            "\n",
            "Epoch 55, Batch 101/101,Loss: 0.133474, RMSE: 0.388871: 100%|██████████| 101/101 [00:50<00:00,  2.01it/s]\n",
            "Val Batch 10/10,Loss: 0.146856, RMSE: 0.404064: 100%|██████████| 10/10 [00:03<00:00,  2.94it/s]"
          ]
        },
        {
          "output_type": "stream",
          "name": "stdout",
          "text": [
            "Val RMSE: 0.404064, Val Loss: 0.162422\n",
            "\n",
            "Train RMSE: 0.388871, Average Train Loss: 0.151052, Val RMSE: 0.404064, Average Valid Loss: 0.162422\n",
            "\n",
            "Epoch 56/100: "
          ]
        },
        {
          "output_type": "stream",
          "name": "stderr",
          "text": [
            "\n",
            "Epoch 56, Batch 101/101,Loss: 0.081448, RMSE: 0.388360: 100%|██████████| 101/101 [00:49<00:00,  2.06it/s]\n",
            "Val Batch 10/10,Loss: 0.186636, RMSE: 0.390181: 100%|██████████| 10/10 [00:04<00:00,  2.41it/s]"
          ]
        },
        {
          "output_type": "stream",
          "name": "stdout",
          "text": [
            "Val RMSE: 0.390181, Val Loss: 0.154015\n",
            "\n",
            "Train RMSE: 0.388360, Average Train Loss: 0.150163, Val RMSE: 0.390181, Average Valid Loss: 0.154015\n",
            "\n",
            "Epoch 57/100: "
          ]
        },
        {
          "output_type": "stream",
          "name": "stderr",
          "text": [
            "\n",
            "Epoch 57, Batch 101/101,Loss: 0.080013, RMSE: 0.388301: 100%|██████████| 101/101 [00:49<00:00,  2.06it/s]\n",
            "Val Batch 10/10,Loss: 0.215254, RMSE: 0.394359: 100%|██████████| 10/10 [00:03<00:00,  2.55it/s]"
          ]
        },
        {
          "output_type": "stream",
          "name": "stdout",
          "text": [
            "Val RMSE: 0.394359, Val Loss: 0.158599\n",
            "\n",
            "Train RMSE: 0.388301, Average Train Loss: 0.150104, Val RMSE: 0.394359, Average Valid Loss: 0.158599\n",
            "\n",
            "Epoch 58/100: "
          ]
        },
        {
          "output_type": "stream",
          "name": "stderr",
          "text": [
            "\n",
            "Epoch 58, Batch 101/101,Loss: 0.094067, RMSE: 0.388106: 100%|██████████| 101/101 [00:49<00:00,  2.05it/s]\n",
            "Val Batch 10/10,Loss: 0.167926, RMSE: 0.405164: 100%|██████████| 10/10 [00:03<00:00,  3.04it/s]"
          ]
        },
        {
          "output_type": "stream",
          "name": "stdout",
          "text": [
            "Val RMSE: 0.405164, Val Loss: 0.164352\n",
            "\n",
            "Train RMSE: 0.388106, Average Train Loss: 0.150088, Val RMSE: 0.405164, Average Valid Loss: 0.164352\n",
            "\n",
            "Epoch 59/100: "
          ]
        },
        {
          "output_type": "stream",
          "name": "stderr",
          "text": [
            "\n",
            "Epoch 59, Batch 101/101,Loss: 0.317447, RMSE: 0.386852: 100%|██████████| 101/101 [00:49<00:00,  2.02it/s]\n",
            "Val Batch 10/10,Loss: 0.178087, RMSE: 0.383056: 100%|██████████| 10/10 [00:03<00:00,  3.06it/s]"
          ]
        },
        {
          "output_type": "stream",
          "name": "stdout",
          "text": [
            "Val RMSE: 0.383056, Val Loss: 0.148349\n",
            "\n",
            "Train RMSE: 0.386852, Average Train Loss: 0.151251, Val RMSE: 0.383056, Average Valid Loss: 0.148349\n",
            "\n",
            "Epoch 60/100: "
          ]
        },
        {
          "output_type": "stream",
          "name": "stderr",
          "text": [
            "\n",
            "Epoch 60, Batch 101/101,Loss: 0.049300, RMSE: 0.388810: 100%|██████████| 101/101 [00:49<00:00,  2.06it/s]\n",
            "Val Batch 10/10,Loss: 0.153590, RMSE: 0.406688: 100%|██████████| 10/10 [00:03<00:00,  3.07it/s]"
          ]
        },
        {
          "output_type": "stream",
          "name": "stdout",
          "text": [
            "Val RMSE: 0.406688, Val Loss: 0.164786\n",
            "\n",
            "Train RMSE: 0.388810, Average Train Loss: 0.150204, Val RMSE: 0.406688, Average Valid Loss: 0.164786\n",
            "\n",
            "Epoch 61/100: "
          ]
        },
        {
          "output_type": "stream",
          "name": "stderr",
          "text": [
            "\n",
            "Epoch 61, Batch 101/101,Loss: 0.095338, RMSE: 0.386009: 100%|██████████| 101/101 [00:49<00:00,  2.04it/s]\n",
            "Val Batch 10/10,Loss: 0.161963, RMSE: 0.425200: 100%|██████████| 10/10 [00:03<00:00,  3.08it/s]"
          ]
        },
        {
          "output_type": "stream",
          "name": "stdout",
          "text": [
            "Val RMSE: 0.425200, Val Loss: 0.179824\n",
            "\n",
            "Train RMSE: 0.386009, Average Train Loss: 0.148492, Val RMSE: 0.425200, Average Valid Loss: 0.179824\n",
            "\n",
            "Epoch 62/100: "
          ]
        },
        {
          "output_type": "stream",
          "name": "stderr",
          "text": [
            "\n",
            "Epoch 62, Batch 101/101,Loss: 0.709278, RMSE: 0.387186: 100%|██████████| 101/101 [00:49<00:00,  2.06it/s]\n",
            "Val Batch 10/10,Loss: 0.176945, RMSE: 0.385901: 100%|██████████| 10/10 [00:03<00:00,  2.58it/s]"
          ]
        },
        {
          "output_type": "stream",
          "name": "stdout",
          "text": [
            "Val RMSE: 0.385901, Val Loss: 0.150365\n",
            "\n",
            "Train RMSE: 0.387186, Average Train Loss: 0.155235, Val RMSE: 0.385901, Average Valid Loss: 0.150365\n",
            "\n",
            "Epoch 63/100: "
          ]
        },
        {
          "output_type": "stream",
          "name": "stderr",
          "text": [
            "\n",
            "Epoch 63, Batch 101/101,Loss: 0.171952, RMSE: 0.388535: 100%|██████████| 101/101 [00:48<00:00,  2.09it/s]\n",
            "Val Batch 10/10,Loss: 0.210979, RMSE: 0.395534: 100%|██████████| 10/10 [00:04<00:00,  2.44it/s]"
          ]
        },
        {
          "output_type": "stream",
          "name": "stdout",
          "text": [
            "Val RMSE: 0.395534, Val Loss: 0.159259\n",
            "\n",
            "Train RMSE: 0.388535, Average Train Loss: 0.151159, Val RMSE: 0.395534, Average Valid Loss: 0.159259\n",
            "\n",
            "Epoch 64/100: "
          ]
        },
        {
          "output_type": "stream",
          "name": "stderr",
          "text": [
            "\n",
            "Epoch 64, Batch 101/101,Loss: 0.155732, RMSE: 0.385901: 100%|██████████| 101/101 [00:48<00:00,  2.09it/s]\n",
            "Val Batch 10/10,Loss: 0.204168, RMSE: 0.393368: 100%|██████████| 10/10 [00:03<00:00,  2.69it/s]"
          ]
        },
        {
          "output_type": "stream",
          "name": "stdout",
          "text": [
            "Val RMSE: 0.393368, Val Loss: 0.157287\n",
            "\n",
            "Train RMSE: 0.385901, Average Train Loss: 0.148984, Val RMSE: 0.393368, Average Valid Loss: 0.157287\n",
            "\n",
            "Epoch 65/100: "
          ]
        },
        {
          "output_type": "stream",
          "name": "stderr",
          "text": [
            "\n",
            "Epoch 65, Batch 101/101,Loss: 0.141731, RMSE: 0.384779: 100%|██████████| 101/101 [00:49<00:00,  2.05it/s]\n",
            "Val Batch 10/10,Loss: 0.161905, RMSE: 0.390996: 100%|██████████| 10/10 [00:03<00:00,  3.03it/s]"
          ]
        },
        {
          "output_type": "stream",
          "name": "stdout",
          "text": [
            "Val RMSE: 0.390996, Val Loss: 0.153343\n",
            "\n",
            "Train RMSE: 0.384779, Average Train Loss: 0.147994, Val RMSE: 0.390996, Average Valid Loss: 0.153343\n",
            "\n",
            "Epoch 66/100: "
          ]
        },
        {
          "output_type": "stream",
          "name": "stderr",
          "text": [
            "\n",
            "Epoch 66, Batch 101/101,Loss: 0.086074, RMSE: 0.385922: 100%|██████████| 101/101 [00:49<00:00,  2.05it/s]\n",
            "Val Batch 10/10,Loss: 0.161922, RMSE: 0.405263: 100%|██████████| 10/10 [00:03<00:00,  3.02it/s]"
          ]
        },
        {
          "output_type": "stream",
          "name": "stdout",
          "text": [
            "Val RMSE: 0.405263, Val Loss: 0.164119\n",
            "\n",
            "Train RMSE: 0.385922, Average Train Loss: 0.148337, Val RMSE: 0.405263, Average Valid Loss: 0.164119\n",
            "\n",
            "Epoch 67/100: "
          ]
        },
        {
          "output_type": "stream",
          "name": "stderr",
          "text": [
            "\n",
            "Epoch 67, Batch 81/101,Loss: 0.177325, RMSE: 0.385006:  80%|████████  | 81/101 [00:39<00:09,  2.21it/s]"
          ]
        }
      ]
    },
    {
      "cell_type": "code",
      "source": [
        "torch.save(model.state_dict(), 'model.pth')"
      ],
      "metadata": {
        "id": "e0rFK18Z6_d8"
      },
      "execution_count": null,
      "outputs": []
    }
  ]
}